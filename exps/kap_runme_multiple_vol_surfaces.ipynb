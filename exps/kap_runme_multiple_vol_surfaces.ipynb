{
 "cells": [
  {
   "cell_type": "markdown",
   "metadata": {},
   "source": [
    "# Import Libraries"
   ]
  },
  {
   "cell_type": "code",
   "execution_count": 1,
   "metadata": {},
   "outputs": [],
   "source": [
    "#-*-coding:utf-8-*-\n",
    "\n",
    "%load_ext autoreload\n",
    "%autoreload 2\n",
    "\n",
    "import sys\n",
    "import os\n",
    "\n",
    "import numpy as np\n",
    "import pandas as pd\n",
    "\n",
    "import torch\n",
    "\n",
    "import time\n",
    "import datetime\n",
    "\n",
    "import warnings\n",
    "\n",
    "__ROOT_PATH = os.path.abspath('../')\n",
    "sys.path.append(__ROOT_PATH)\n",
    "\n",
    "from vol_surface_manager.kap_constants import *\n",
    "from vol_surface_manager.kap_parse_args import parse_args\n",
    "from vol_surface_manager.kap_logger import acquire_logger\n",
    "from vol_surface_manager.kap_data_loader import load_data_from_config, save_coef_data_from_config, save_selection_data_from_config\n",
    "from vol_surface_manager.kap_main_data import daily_coefs_to_coef_data, daily_train_data_to_selection_data\n",
    "\n",
    "from vol_surface_manager.kap_models import HyeonukLossModel1 as LossModel\n",
    "from vol_surface_manager.kap_models import HyeonukCandidateModel1 as CandidateModel\n",
    "\n",
    "#from vol_surface_manager.kap_models import HyeonukLossModel2 as LossModel\n",
    "#from vol_surface_manager.kap_models import HyeonukCandidateModel2 as CandidateModel\n",
    "\n",
    "#from vol_surface_manager.kap_models import HyeonukLossModel3 as LossModel\n",
    "#from vol_surface_manager.kap_models import HyeonukCandidateModel3 as CandidateModel\n",
    "\n",
    "#from vol_surface_manager.kap_models import HyeonukLossModel4 as LossModel\n",
    "#from vol_surface_manager.kap_models import HyeonukCandidateModel4 as CandidateModel\n",
    "\n",
    "from vol_surface_manager.kap_vol_surface import create_vol_surface_at_day\n",
    "\n",
    "import matplotlib\n",
    "import matplotlib.pyplot as plt\n",
    "%matplotlib inline"
   ]
  },
  {
   "cell_type": "markdown",
   "metadata": {},
   "source": [
    "# Parse Arguments"
   ]
  },
  {
   "cell_type": "code",
   "execution_count": 2,
   "metadata": {},
   "outputs": [],
   "source": [
    "#LOG = \"DEBUG\"\n",
    "LOG = \"INFO\"\n",
    "DATA_TYPE = \"Kospi200\"\n",
    "#DATA_TYPE = \"S&P500\"\n",
    "MODEL_BASE_DIR = \"../models_svm\"\n",
    "RESULT_BASE_DIR = \"../results/results_test\"\n",
    "\n",
    "# ignore by message\n",
    "warnings.filterwarnings(\"ignore\", message=\"overflow encountered in square\")\n",
    "warnings.filterwarnings(\"ignore\", message=\"overflow encountered in multiply\")\n",
    "warnings.filterwarnings(\"ignore\", message=\"invalid value encountered in double_scalars\")\n",
    "warnings.filterwarnings(\"ignore\", message=\"divide by zero encountered in double_scalars\")\n",
    "\n",
    "# 0. Parsing arguments\n",
    "sys.argv = [\"kap_runme_vol_surface.py\",\n",
    "            \"--LOG=%s\" % LOG,\n",
    "            \"--DATA_TYPE=%s\" % DATA_TYPE,\n",
    "            \"--MODEL_BASE_DIR=%s\" % MODEL_BASE_DIR,\n",
    "            \"--RESULT_BASE_DIR=%s\" % RESULT_BASE_DIR]\n",
    "config = parse_args()\n",
    "logger = acquire_logger(config)"
   ]
  },
  {
   "cell_type": "markdown",
   "metadata": {},
   "source": [
    "# Acquire Market Data"
   ]
  },
  {
   "cell_type": "code",
   "execution_count": 3,
   "metadata": {},
   "outputs": [
    {
     "name": "stderr",
     "output_type": "stream",
     "text": [
      "    INFO - Market data is loaded.\n"
     ]
    }
   ],
   "source": [
    "# 2. Acquiring market data\n",
    "market_data, raw_param_data, coef_data, all_days_init, coef_days, market_days = load_data_from_config(\n",
    "    config, logger, mode='eval', acquire_market_data=False)\n",
    "logger.info('Market data is loaded.')"
   ]
  },
  {
   "cell_type": "markdown",
   "metadata": {},
   "source": [
    "# Load Models"
   ]
  },
  {
   "cell_type": "code",
   "execution_count": 4,
   "metadata": {},
   "outputs": [
    {
     "name": "stderr",
     "output_type": "stream",
     "text": [
      "    INFO - Alpha loss model is loaded.\n",
      "    INFO - Rho loss model is loaded.\n",
      "    INFO - Nu loss model is loaded.\n",
      "    INFO - Alpha candidate model is loaded.\n",
      "    INFO - Rho candidate model is loaded.\n",
      "    INFO - Nu candidate model is loaded.\n"
     ]
    }
   ],
   "source": [
    "device = torch.device(\"cuda\" if torch.cuda.is_available() else \"cpu\")\n",
    "try:\n",
    "    assert(os.path.isdir(config.MODEL_BASE_DIR))\n",
    "except Exception as e:\n",
    "    logger.fatal('Invalid model directory: \"%s.\"' % config.MODEL_BASE_DIR)\n",
    "    raise e\n",
    "\n",
    "# 2. Loading loss models\n",
    "alpha_loss_model, rho_loss_model, nu_loss_model = None, None, None\n",
    "LOSS_MODEL_DIRNAME = 'loss_models'\n",
    "loss_model_base_dir = os.path.join(config.MODEL_BASE_DIR, LOSS_MODEL_DIRNAME)\n",
    "loss_model_base_dir_2 = os.path.join(loss_model_base_dir, config.DATA_TYPE)\n",
    "for parameter in ['Alpha', 'Rho', 'Nu']:\n",
    "    loss_model_save_dir = os.path.join(loss_model_base_dir_2, parameter)\n",
    "    loss_model_name = 'model_best'\n",
    "    try:\n",
    "        loss_model = LossModel(device, parameter=parameter)\n",
    "        loss_model.load(loss_model_save_dir, loss_model_name)\n",
    "        loss_model.eval()\n",
    "        logger.info('%s loss model is loaded.' % parameter)\n",
    "    except:\n",
    "        loss_model = None\n",
    "        logger.warning('No %s loss model exists.' % parameter)\n",
    "    if parameter == 'Alpha':\n",
    "        alpha_loss_model = loss_model\n",
    "    elif parameter == 'Rho':\n",
    "        rho_loss_model = loss_model\n",
    "    else:\n",
    "        assert(parameter == 'Nu')\n",
    "        nu_loss_model = loss_model\n",
    "\n",
    "# 3. Loading candidate models\n",
    "alpha_candidate_model, rho_candidate_model, nu_candidate_model = None, None, None\n",
    "CANDIDATE_MODEL_DIRNAME = 'candidate_models'\n",
    "candidate_model_base_dir = os.path.join(config.MODEL_BASE_DIR, CANDIDATE_MODEL_DIRNAME)\n",
    "candidate_model_base_dir_2 = os.path.join(candidate_model_base_dir, config.DATA_TYPE)\n",
    "for parameter in ['Alpha', 'Rho', 'Nu']:\n",
    "    candidate_model_save_dir = os.path.join(candidate_model_base_dir_2, parameter)\n",
    "    candidate_model_name = 'model_best'\n",
    "    try:\n",
    "        candidate_model = CandidateModel(device, parameter=parameter)\n",
    "        candidate_model.load(candidate_model_save_dir, candidate_model_name)\n",
    "        candidate_model.eval()\n",
    "        logger.info('%s candidate model is loaded.' % parameter)\n",
    "    except:\n",
    "        candidate_model = None\n",
    "        logger.warning('No %s candidate model exists.' % parameter)\n",
    "    if parameter == 'Alpha':\n",
    "        alpha_candidate_model = candidate_model\n",
    "    elif parameter == 'Rho':\n",
    "        rho_candidate_model = candidate_model\n",
    "    else:\n",
    "        assert (parameter == 'Nu')\n",
    "        nu_candidate_model = candidate_model"
   ]
  },
  {
   "cell_type": "code",
   "execution_count": 8,
   "metadata": {},
   "outputs": [],
   "source": [
    "alpha_loss_model = None\n",
    "rho_loss_model = None\n",
    "nu_loss_model = None\n",
    "\n",
    "#alpha_candidate_model = None\n",
    "#rho_candidate_model = None\n",
    "#nu_candidate_model = None"
   ]
  },
  {
   "cell_type": "markdown",
   "metadata": {},
   "source": [
    "# Create Vol Surface"
   ]
  },
  {
   "cell_type": "code",
   "execution_count": 9,
   "metadata": {},
   "outputs": [
    {
     "name": "stderr",
     "output_type": "stream",
     "text": [
      "    INFO - Training dates are acquired.\n"
     ]
    },
    {
     "name": "stdout",
     "output_type": "stream",
     "text": [
      "['20190101', '20190102', '20190103', '20190104', '20190107', '20190108', '20190109', '20190110', '20190111', '20190114', '20190115', '20190116', '20190117', '20190118', '20190121', '20190122', '20190123', '20190124', '20190125', '20190128', '20190129', '20190130', '20190131', '20190201', '20190204', '20190205', '20190206', '20190207', '20190208', '20190211', '20190212', '20190213', '20190214', '20190215', '20190218', '20190219', '20190220', '20190221', '20190222', '20190225', '20190226', '20190227', '20190228', '20190301', '20190304', '20190305', '20190306', '20190307', '20190308', '20190311', '20190312', '20190313', '20190314', '20190315', '20190318', '20190319', '20190320', '20190321', '20190322', '20190325', '20190326', '20190327', '20190328', '20190329', '20190401', '20190402', '20190403', '20190404', '20190405', '20190408', '20190409', '20190410', '20190411', '20190412', '20190415', '20190416', '20190417', '20190418', '20190419', '20190422', '20190423', '20190424', '20190425', '20190426', '20190429', '20190430', '20190501', '20190502', '20190503', '20190506', '20190507', '20190508', '20190509', '20190510', '20190513', '20190514', '20190515', '20190516', '20190517', '20190520', '20190521', '20190522', '20190523', '20190524', '20190527', '20190528', '20190529', '20190530', '20190531', '20190603', '20190604', '20190605', '20190606', '20190607', '20190610', '20190611', '20190612', '20190613', '20190614', '20190617', '20190618', '20190619', '20190620', '20190621', '20190624', '20190625', '20190626', '20190627', '20190628', '20190701', '20190702', '20190703', '20190704', '20190705', '20190708', '20190709', '20190710', '20190711', '20190712', '20190715', '20190716', '20190717', '20190718', '20190719', '20190722', '20190723', '20190724', '20190725', '20190726', '20190729', '20190730', '20190731', '20190801', '20190802', '20190805', '20190806', '20190807', '20190808', '20190809', '20190812', '20190813', '20190814', '20190815', '20190816', '20190819', '20190820', '20190821', '20190822', '20190823', '20190826', '20190827', '20190828', '20190829', '20190830', '20190902', '20190903', '20190904', '20190905', '20190906']\n"
     ]
    }
   ],
   "source": [
    "all_days = []\n",
    "for day_index in range(1, len(all_days_init)):\n",
    "    yesterday = all_days_init[day_index-1]\n",
    "    day = all_days_init[day_index]\n",
    "    if not (yesterday in coef_days and day in coef_days):\n",
    "        continue\n",
    "    all_days.append(day)\n",
    "\n",
    "indices = np.arange(len(all_days))\n",
    "train_boundary = sum(day < datetime.datetime.strptime('20190101', '%Y%m%d') for day in all_days)\n",
    "train_indices = indices[:train_boundary]\n",
    "test_indices = indices[train_boundary:]\n",
    "vol_dates = [all_days[index].strftime('%Y%m%d') for index in test_indices]\n",
    "logger.info('Training dates are acquired.')\n",
    "\n",
    "print(vol_dates)"
   ]
  },
  {
   "cell_type": "code",
   "execution_count": 10,
   "metadata": {},
   "outputs": [],
   "source": [
    "#pred_coef_data.to_parquet('temp_pred_coef_data.parquet', engine='pyarrow')\n",
    "#pred_alpha_selection_data.to_parquet('temp_pred_alpha_selection_data.parquet', engine='pyarrow')\n",
    "#pred_rho_selection_data.to_parquet('temp_pred_rho_selection_data.parquet', engine='pyarrow')\n",
    "#pred_nu_selection_data.to_parquet('temp_pred_nu_selection_data.parquet', engine='pyarrow')\n",
    "#pred_coef_data = pd.read_parquet('temp_pred_coef_data.parquet', engine='pyarrow')\n",
    "#pred_alpha_selection_data = pd.read_parquet('temp_pred_alpha_selection_data.parquet', engine='pyarrow')\n",
    "#pred_rho_selection_data = pd.read_parquet('temp_pred_rho_selection_data.parquet', engine='pyarrow')\n",
    "#pred_nu_selection_data = pd.read_parquet('temp_pred_nu_selection_data.parquet', engine='pyarrow')"
   ]
  },
  {
   "cell_type": "code",
   "execution_count": 11,
   "metadata": {
    "scrolled": true
   },
   "outputs": [
    {
     "name": "stderr",
     "output_type": "stream",
     "text": [
      "    INFO - \n",
      "    INFO - [1/179] Start 1'th iteration.\n",
      "    INFO - Considering Kospi200 index. Creating vol surface at date: 2019/01/01.\n",
      "    INFO - Using raw parameters of date: 2019/01/01 and vol surface of date: 2018/12/31.\n",
      "    INFO - \n",
      "    INFO - Now creating vol surface.\n",
      "    INFO - \n",
      "    INFO - Computed Alpha Coefficients: 0.087871, 0.098587, 4.864453, 0.004535, 0.059823\n",
      "    INFO - Elapsed time:     2 seconds.\n",
      "    INFO - \n"
     ]
    },
    {
     "name": "stdout",
     "output_type": "stream",
     "text": [
      "[2.77777778e-03 5.55555556e-03 8.33333333e-03 ... 2.99444444e+00\n",
      " 2.99722222e+00 3.00000000e+00]\n",
      "[0.18365893 0.18338428 0.18311322 ... 0.15726902 0.15726343 0.15725784]\n",
      "0.0\n"
     ]
    },
    {
     "name": "stderr",
     "output_type": "stream",
     "text": [
      "    INFO - Computed Rho Coefficients: -0.407504, -0.198663, 3.447327\n",
      "    INFO - Elapsed time:     4 seconds.\n",
      "    INFO - \n"
     ]
    },
    {
     "name": "stdout",
     "output_type": "stream",
     "text": [
      "[2.77777778e-03 5.55555556e-03 8.33333333e-03 ... 2.99444444e+00\n",
      " 2.99722222e+00 3.00000000e+00]\n",
      "[-0.60427298 -0.60239773 -0.60054035 ... -0.40751013 -0.40751006\n",
      " -0.40751   ]\n",
      "0.0\n"
     ]
    },
    {
     "name": "stderr",
     "output_type": "stream",
     "text": [
      "    INFO - Computed Nu Coefficients: 0.028728, 0.714049, -0.408832, -0.150529\n",
      "    INFO - Elapsed time:     6 seconds.\n",
      "    INFO - \n",
      "    INFO - Vol surface is created.\n",
      "    INFO - Elapsed time:     6 seconds.\n",
      "    INFO - \n",
      "    INFO - Finally writing the results to excel format.\n",
      "    INFO - \n",
      "    INFO - [1/179] Total Elapsed time: 6.73699 seconds.\n",
      "    INFO - \n",
      "    INFO - [2/179] Start 2'th iteration.\n",
      "    INFO - Considering Kospi200 index. Creating vol surface at date: 2019/01/02.\n",
      "    INFO - Using raw parameters of date: 2019/01/02 and vol surface of date: 2019/01/01.\n",
      "    INFO - \n",
      "    INFO - Now creating vol surface.\n",
      "    INFO - \n"
     ]
    },
    {
     "name": "stdout",
     "output_type": "stream",
     "text": [
      "[2.77777778e-03 5.55555556e-03 8.33333333e-03 ... 2.99444444e+00\n",
      " 2.99722222e+00 3.00000000e+00]\n",
      "[7.94725922 5.99073359 5.0778872  ... 0.31928879 0.31905725 0.31882599]\n",
      "0.0\n"
     ]
    },
    {
     "name": "stderr",
     "output_type": "stream",
     "text": [
      "    INFO - Computed Alpha Coefficients: 0.154749, 0.209514, 4.877876, 0.000007, 0.002298\n",
      "    INFO - Elapsed time:     2 seconds.\n",
      "    INFO - \n"
     ]
    },
    {
     "name": "stdout",
     "output_type": "stream",
     "text": [
      "[2.77777778e-03 5.55555556e-03 8.33333333e-03 ... 2.99444444e+00\n",
      " 2.99722222e+00 3.00000000e+00]\n",
      "[0.20020104 0.19963075 0.19906814 ... 0.15781657 0.15781656 0.15781655]\n",
      "0.0\n"
     ]
    },
    {
     "name": "stderr",
     "output_type": "stream",
     "text": [
      "    INFO - Computed Rho Coefficients: -0.323016, -0.244879, 0.908824\n",
      "    INFO - Elapsed time:     4 seconds.\n",
      "    INFO - \n"
     ]
    },
    {
     "name": "stdout",
     "output_type": "stream",
     "text": [
      "[2.77777778e-03 5.55555556e-03 8.33333333e-03 ... 2.99444444e+00\n",
      " 2.99722222e+00 3.00000000e+00]\n",
      "[-0.56727773 -0.56666187 -0.56604755 ... -0.33912462 -0.33908401\n",
      " -0.3390435 ]\n",
      "0.0\n"
     ]
    },
    {
     "name": "stderr",
     "output_type": "stream",
     "text": [
      "    INFO - Computed Nu Coefficients: 0.028126, 0.839701, -0.358500, -0.201958\n",
      "    INFO - Elapsed time:     6 seconds.\n",
      "    INFO - \n",
      "    INFO - Vol surface is created.\n",
      "    INFO - Elapsed time:     6 seconds.\n",
      "    INFO - \n",
      "    INFO - Finally writing the results to excel format.\n",
      "    INFO - \n",
      "    INFO - [2/179] Total Elapsed time: 12.95260 seconds.\n",
      "    INFO - \n",
      "    INFO - [3/179] Start 3'th iteration.\n",
      "    INFO - Considering Kospi200 index. Creating vol surface at date: 2019/01/03.\n",
      "    INFO - Using raw parameters of date: 2019/01/03 and vol surface of date: 2019/01/02.\n",
      "    INFO - \n",
      "    INFO - Now creating vol surface.\n",
      "    INFO - \n"
     ]
    },
    {
     "name": "stdout",
     "output_type": "stream",
     "text": [
      "[2.77777778e-03 5.55555556e-03 8.33333333e-03 ... 2.99444444e+00\n",
      " 2.99722222e+00 3.00000000e+00]\n",
      "[6.95148375 5.42514239 4.69237039 ... 0.33767187 0.33739545 0.33711936]\n",
      "0.0\n"
     ]
    },
    {
     "name": "stderr",
     "output_type": "stream",
     "text": [
      "    INFO - Computed Alpha Coefficients: 0.157015, 0.192300, 14.898439, 0.061865, 2.444243\n",
      "    INFO - Elapsed time:     2 seconds.\n",
      "    INFO - \n"
     ]
    },
    {
     "name": "stdout",
     "output_type": "stream",
     "text": [
      "[2.77777778e-03 5.55555556e-03 8.33333333e-03 ... 2.99444444e+00\n",
      " 2.99722222e+00 3.00000000e+00]\n",
      "[0.19462333 0.19403594 0.19346928 ... 0.16047035 0.16046716 0.16046398]\n",
      "0.0\n"
     ]
    },
    {
     "name": "stderr",
     "output_type": "stream",
     "text": [
      "    INFO - Computed Rho Coefficients: -0.398351, -0.168857, 1.355906\n",
      "    INFO - Elapsed time:     4 seconds.\n",
      "    INFO - \n"
     ]
    },
    {
     "name": "stdout",
     "output_type": "stream",
     "text": [
      "[2.77777778e-03 5.55555556e-03 8.33333333e-03 ... 2.99444444e+00\n",
      " 2.99722222e+00 3.00000000e+00]\n",
      "[-0.56657334 -0.56594094 -0.56531092 ... -0.4012635  -0.40125256\n",
      " -0.40124165]\n",
      "0.0\n"
     ]
    },
    {
     "name": "stderr",
     "output_type": "stream",
     "text": [
      "    INFO - Computed Nu Coefficients: 0.130283, 0.747175, -0.370815, -0.360619\n",
      "    INFO - Elapsed time:     6 seconds.\n",
      "    INFO - \n",
      "    INFO - Vol surface is created.\n",
      "    INFO - Elapsed time:     6 seconds.\n",
      "    INFO - \n",
      "    INFO - Finally writing the results to excel format.\n"
     ]
    },
    {
     "name": "stdout",
     "output_type": "stream",
     "text": [
      "[2.77777778e-03 5.55555556e-03 8.33333333e-03 ... 2.99444444e+00\n",
      " 2.99722222e+00 3.00000000e+00]\n",
      "[6.75095156 5.24522185 4.52679406 ... 0.29925796 0.29903075 0.2988039 ]\n",
      "0.0\n"
     ]
    },
    {
     "name": "stderr",
     "output_type": "stream",
     "text": [
      "    INFO - \n",
      "    INFO - [3/179] Total Elapsed time: 19.72005 seconds.\n",
      "    INFO - \n",
      "    INFO - [4/179] Start 4'th iteration.\n",
      "    INFO - Considering Kospi200 index. Creating vol surface at date: 2019/01/04.\n",
      "    INFO - Using raw parameters of date: 2019/01/04 and vol surface of date: 2019/01/03.\n",
      "    INFO - \n",
      "    INFO - Now creating vol surface.\n",
      "    INFO - \n",
      "    INFO - Computed Alpha Coefficients: 0.155144, -0.128166, 22.373677, 0.054970, 2.411107\n",
      "    INFO - Elapsed time:     2 seconds.\n",
      "    INFO - \n"
     ]
    },
    {
     "name": "stdout",
     "output_type": "stream",
     "text": [
      "[2.77777778e-03 5.55555556e-03 8.33333333e-03 ... 2.99444444e+00\n",
      " 2.99722222e+00 3.00000000e+00]\n",
      "[0.17248312 0.17273166 0.17296099 ... 0.15829936 0.15829645 0.15829355]\n",
      "0.0\n"
     ]
    },
    {
     "name": "stderr",
     "output_type": "stream",
     "text": [
      "    INFO - Computed Rho Coefficients: -0.378518, -0.093141, 1.434858\n",
      "    INFO - Elapsed time:     4 seconds.\n",
      "    INFO - \n"
     ]
    },
    {
     "name": "stdout",
     "output_type": "stream",
     "text": [
      "[2.77777778e-03 5.55555556e-03 8.33333333e-03 ... 2.99444444e+00\n",
      " 2.99722222e+00 3.00000000e+00]\n",
      "[-0.47128801 -0.47091899 -0.47055143 ... -0.37978565 -0.37978061\n",
      " -0.37977558]\n",
      "0.0\n"
     ]
    },
    {
     "name": "stderr",
     "output_type": "stream",
     "text": [
      "    INFO - Computed Nu Coefficients: 0.041618, 0.731081, -0.375069, -0.196294\n",
      "    INFO - Elapsed time:     6 seconds.\n",
      "    INFO - \n",
      "    INFO - Vol surface is created.\n",
      "    INFO - Elapsed time:     6 seconds.\n",
      "    INFO - \n",
      "    INFO - Finally writing the results to excel format.\n",
      "    INFO - \n",
      "    INFO - [4/179] Total Elapsed time: 25.92371 seconds.\n",
      "    INFO - \n",
      "    INFO - [5/179] Start 5'th iteration.\n",
      "    INFO - Considering Kospi200 index. Creating vol surface at date: 2019/01/07.\n",
      "    INFO - Using raw parameters of date: 2019/01/07 and vol surface of date: 2019/01/04.\n",
      "    INFO - \n"
     ]
    },
    {
     "name": "stdout",
     "output_type": "stream",
     "text": [
      "[2.77777778e-03 5.55555556e-03 8.33333333e-03 ... 2.99444444e+00\n",
      " 2.99722222e+00 3.00000000e+00]\n",
      "[6.6869553  5.16283694 4.43794761 ... 0.31079582 0.31055555 0.31031557]\n",
      "0.0\n"
     ]
    },
    {
     "name": "stderr",
     "output_type": "stream",
     "text": [
      "    INFO - Now creating vol surface.\n",
      "    INFO - \n",
      "    INFO - Computed Alpha Coefficients: 0.089279, -0.000268, 1.495474, 0.003838, 0.052812\n",
      "    INFO - Elapsed time:     2 seconds.\n",
      "    INFO - \n"
     ]
    },
    {
     "name": "stdout",
     "output_type": "stream",
     "text": [
      "[2.77777778e-03 5.55555556e-03 8.33333333e-03 ... 2.99444444e+00\n",
      " 2.99722222e+00 3.00000000e+00]\n",
      "[0.16176913 0.16176454 0.16175995 ... 0.15649595 0.15649116 0.15648636]\n",
      "0.0\n"
     ]
    },
    {
     "name": "stderr",
     "output_type": "stream",
     "text": [
      "    INFO - Computed Rho Coefficients: -0.307679, -0.211980, 5.327202\n",
      "    INFO - Elapsed time:     4 seconds.\n",
      "    INFO - \n"
     ]
    },
    {
     "name": "stdout",
     "output_type": "stream",
     "text": [
      "[2.77777778e-03 5.55555556e-03 8.33333333e-03 ... 2.99444444e+00\n",
      " 2.99722222e+00 3.00000000e+00]\n",
      "[-0.51654486 -0.51347686 -0.51045392 ... -0.30767875 -0.30767875\n",
      " -0.30767875]\n",
      "0.0\n"
     ]
    },
    {
     "name": "stderr",
     "output_type": "stream",
     "text": [
      "    INFO - Computed Nu Coefficients: -0.087689, 0.753895, -0.418912, -0.042203\n",
      "    INFO - Elapsed time:     6 seconds.\n",
      "    INFO - \n",
      "    INFO - Vol surface is created.\n",
      "    INFO - Elapsed time:     6 seconds.\n",
      "    INFO - \n",
      "    INFO - Finally writing the results to excel format.\n",
      "    INFO - \n",
      "    INFO - [5/179] Total Elapsed time: 32.13406 seconds.\n",
      "    INFO - \n",
      "    INFO - [6/179] Start 6'th iteration.\n",
      "    INFO - Considering Kospi200 index. Creating vol surface at date: 2019/01/08.\n",
      "    INFO - Using raw parameters of date: 2019/01/08 and vol surface of date: 2019/01/07.\n",
      "    INFO - \n",
      "    INFO - Now creating vol surface.\n",
      "    INFO - \n"
     ]
    },
    {
     "name": "stdout",
     "output_type": "stream",
     "text": [
      "[2.77777778e-03 5.55555556e-03 8.33333333e-03 ... 2.99444444e+00\n",
      " 2.99722222e+00 3.00000000e+00]\n",
      "[8.7864201  6.54926662 5.51183798 ... 0.33196599 0.33175384 0.33154196]\n",
      "0.0\n"
     ]
    },
    {
     "name": "stderr",
     "output_type": "stream",
     "text": [
      "    INFO - Computed Alpha Coefficients: 0.153695, -0.145596, 3.542369, 0.106780, 3.527221\n",
      "    INFO - Elapsed time:     2 seconds.\n",
      "    INFO - \n"
     ]
    },
    {
     "name": "stdout",
     "output_type": "stream",
     "text": [
      "[2.77777778e-03 5.55555556e-03 8.33333333e-03 ... 2.99444444e+00\n",
      " 2.99722222e+00 3.00000000e+00]\n",
      "[0.14312191 0.14337356 0.14362226 ... 0.15656052 0.15655788 0.15655524]\n",
      "0.0\n"
     ]
    },
    {
     "name": "stderr",
     "output_type": "stream",
     "text": [
      "    INFO - Computed Rho Coefficients: 18.454232, -18.885862, 0.001985\n",
      "    INFO - Elapsed time:     4 seconds.\n",
      "    INFO - \n"
     ]
    },
    {
     "name": "stdout",
     "output_type": "stream",
     "text": [
      "[2.77777778e-03 5.55555556e-03 8.33333333e-03 ... 2.99444444e+00\n",
      " 2.99722222e+00 3.00000000e+00]\n",
      "[-0.43152596 -0.43142181 -0.43131765 ... -0.31968036 -0.31957682\n",
      " -0.31947328]\n",
      "0.0\n"
     ]
    },
    {
     "name": "stderr",
     "output_type": "stream",
     "text": [
      "    INFO - Computed Nu Coefficients: 0.008758, 0.741441, -0.418442, -0.137119\n",
      "    INFO - Elapsed time:     6 seconds.\n",
      "    INFO - \n",
      "    INFO - Vol surface is created.\n",
      "    INFO - Elapsed time:     6 seconds.\n",
      "    INFO - \n",
      "    INFO - Finally writing the results to excel format.\n"
     ]
    },
    {
     "name": "stdout",
     "output_type": "stream",
     "text": [
      "[2.77777778e-03 5.55555556e-03 8.33333333e-03 ... 2.99444444e+00\n",
      " 2.99722222e+00 3.00000000e+00]\n",
      "[8.70990005 6.51675285 5.49907953 ... 0.31953435 0.3192955  0.31905694]\n",
      "0.0\n"
     ]
    },
    {
     "name": "stderr",
     "output_type": "stream",
     "text": [
      "    INFO - \n",
      "    INFO - [6/179] Total Elapsed time: 38.38894 seconds.\n",
      "    INFO - \n",
      "    INFO - [7/179] Start 7'th iteration.\n",
      "    INFO - Considering Kospi200 index. Creating vol surface at date: 2019/01/09.\n",
      "    INFO - Using raw parameters of date: 2019/01/09 and vol surface of date: 2019/01/08.\n",
      "    INFO - \n",
      "    INFO - Now creating vol surface.\n",
      "    INFO - \n",
      "    INFO - Computed Alpha Coefficients: 0.155853, -0.069690, 5.929047, -0.013557, 1.471191\n",
      "    INFO - Elapsed time:     2 seconds.\n",
      "    INFO - \n"
     ]
    },
    {
     "name": "stdout",
     "output_type": "stream",
     "text": [
      "[2.77777778e-03 5.55555556e-03 8.33333333e-03 ... 2.99444444e+00\n",
      " 2.99722222e+00 3.00000000e+00]\n",
      "[0.13509478 0.13530239 0.13550687 ... 0.15378684 0.15378865 0.15379046]\n",
      "0.0\n"
     ]
    },
    {
     "name": "stderr",
     "output_type": "stream",
     "text": [
      "    INFO - Computed Rho Coefficients: -0.324301, -0.251159, 8.691822\n",
      "    INFO - Elapsed time:     4 seconds.\n",
      "    INFO - \n"
     ]
    },
    {
     "name": "stdout",
     "output_type": "stream",
     "text": [
      "[2.77777778e-03 5.55555556e-03 8.33333333e-03 ... 2.99444444e+00\n",
      " 2.99722222e+00 3.00000000e+00]\n",
      "[-0.56946901 -0.56362057 -0.55791165 ... -0.32430108 -0.32430108\n",
      " -0.32430108]\n",
      "0.0\n"
     ]
    },
    {
     "name": "stderr",
     "output_type": "stream",
     "text": [
      "    INFO - Computed Nu Coefficients: 0.093828, 0.651793, -0.476881, -0.104563\n",
      "    INFO - Elapsed time:     6 seconds.\n",
      "    INFO - \n",
      "    INFO - Vol surface is created.\n",
      "    INFO - Elapsed time:     6 seconds.\n",
      "    INFO - \n",
      "    INFO - Finally writing the results to excel format.\n"
     ]
    },
    {
     "name": "stdout",
     "output_type": "stream",
     "text": [
      "[2.77777778e-03 5.55555556e-03 8.33333333e-03 ... 2.99444444e+00\n",
      " 2.99722222e+00 3.00000000e+00]\n",
      "[10.88421151  7.84478127  6.48020165 ...  0.37630527  0.3760984\n",
      "  0.3758918 ]\n",
      "0.0\n"
     ]
    },
    {
     "name": "stderr",
     "output_type": "stream",
     "text": [
      "    INFO - \n",
      "    INFO - [7/179] Total Elapsed time: 44.85917 seconds.\n",
      "    INFO - \n",
      "    INFO - [8/179] Start 8'th iteration.\n",
      "    INFO - Considering Kospi200 index. Creating vol surface at date: 2019/01/10.\n",
      "    INFO - Using raw parameters of date: 2019/01/10 and vol surface of date: 2019/01/09.\n",
      "    INFO - \n",
      "    INFO - Now creating vol surface.\n",
      "    INFO - \n",
      "    INFO - Computed Alpha Coefficients: 0.158106, -0.158691, 6.169568, -0.014523, 1.406742\n",
      "    INFO - Elapsed time:     2 seconds.\n",
      "    INFO - \n"
     ]
    },
    {
     "name": "stdout",
     "output_type": "stream",
     "text": [
      "[2.77777778e-03 5.55555556e-03 8.33333333e-03 ... 2.99444444e+00\n",
      " 2.99722222e+00 3.00000000e+00]\n",
      "[0.12251787 0.12296759 0.12340996 ... 0.15569169 0.15569379 0.15569588]\n",
      "0.0\n"
     ]
    },
    {
     "name": "stderr",
     "output_type": "stream",
     "text": [
      "    INFO - Computed Rho Coefficients: -0.312994, -0.171382, 5.527189\n",
      "    INFO - Elapsed time:     4 seconds.\n",
      "    INFO - \n"
     ]
    },
    {
     "name": "stdout",
     "output_type": "stream",
     "text": [
      "[2.77777778e-03 5.55555556e-03 8.33333333e-03 ... 2.99444444e+00\n",
      " 2.99722222e+00 3.00000000e+00]\n",
      "[-0.48176465 -0.47919325 -0.47666103 ... -0.31299404 -0.31299404\n",
      " -0.31299404]\n",
      "0.0\n"
     ]
    },
    {
     "name": "stderr",
     "output_type": "stream",
     "text": [
      "    INFO - Computed Nu Coefficients: 0.072492, 0.609489, -0.516979, -0.102033\n",
      "    INFO - Elapsed time:     6 seconds.\n",
      "    INFO - \n",
      "    INFO - Vol surface is created.\n",
      "    INFO - Elapsed time:     6 seconds.\n",
      "    INFO - \n",
      "    INFO - Finally writing the results to excel format.\n"
     ]
    },
    {
     "name": "stdout",
     "output_type": "stream",
     "text": [
      "[2.77777778e-03 5.55555556e-03 8.33333333e-03 ... 2.99444444e+00\n",
      " 2.99722222e+00 3.00000000e+00]\n",
      "[12.84856958  8.99831523  7.3083447  ...  0.32719164  0.32699744\n",
      "  0.32680349]\n",
      "0.0\n"
     ]
    },
    {
     "name": "stderr",
     "output_type": "stream",
     "text": [
      "    INFO - \n",
      "    INFO - [8/179] Total Elapsed time: 51.68061 seconds.\n",
      "    INFO - \n",
      "    INFO - [9/179] Start 9'th iteration.\n",
      "    INFO - Considering Kospi200 index. Creating vol surface at date: 2019/01/11.\n",
      "    INFO - Using raw parameters of date: 2019/01/11 and vol surface of date: 2019/01/10.\n",
      "    INFO - \n",
      "    INFO - Now creating vol surface.\n",
      "    INFO - \n",
      "    INFO - Computed Alpha Coefficients: 0.152987, -0.156036, 6.486063, -0.008967, 1.181354\n",
      "    INFO - Elapsed time:     2 seconds.\n",
      "    INFO - \n"
     ]
    },
    {
     "name": "stdout",
     "output_type": "stream",
     "text": [
      "[2.77777778e-03 5.55555556e-03 8.33333333e-03 ... 2.99444444e+00\n",
      " 2.99722222e+00 3.00000000e+00]\n",
      "[0.12178141 0.12221571 0.12264244 ... 0.15090397 0.15090569 0.15090742]\n",
      "0.0\n"
     ]
    },
    {
     "name": "stderr",
     "output_type": "stream",
     "text": [
      "    INFO - Computed Rho Coefficients: -0.271555, -0.258538, 3.951991\n",
      "    INFO - Elapsed time:     5 seconds.\n",
      "    INFO - \n"
     ]
    },
    {
     "name": "stdout",
     "output_type": "stream",
     "text": [
      "[2.77777778e-03 5.55555556e-03 8.33333333e-03 ... 2.99444444e+00\n",
      " 2.99722222e+00 3.00000000e+00]\n",
      "[-0.52727041 -0.52447859 -0.52171724 ... -0.27155722 -0.2715572\n",
      " -0.27155717]\n",
      "0.0\n"
     ]
    },
    {
     "name": "stderr",
     "output_type": "stream",
     "text": [
      "    INFO - Computed Nu Coefficients: 0.176697, 0.544547, -0.519736, -0.123091\n",
      "    INFO - Elapsed time:     7 seconds.\n",
      "    INFO - \n",
      "    INFO - Vol surface is created.\n",
      "    INFO - Elapsed time:     7 seconds.\n",
      "    INFO - \n",
      "    INFO - Finally writing the results to excel format.\n"
     ]
    },
    {
     "name": "stdout",
     "output_type": "stream",
     "text": [
      "[2.77777778e-03 5.55555556e-03 8.33333333e-03 ... 2.99444444e+00\n",
      " 2.99722222e+00 3.00000000e+00]\n",
      "[11.77754681  8.26551623  6.72630997 ...  0.38970704  0.38953163\n",
      "  0.38935646]\n",
      "0.0\n"
     ]
    },
    {
     "name": "stderr",
     "output_type": "stream",
     "text": [
      "    INFO - \n",
      "    INFO - [9/179] Total Elapsed time: 59.91850 seconds.\n",
      "    INFO - \n",
      "    INFO - [10/179] Start 10'th iteration.\n",
      "    INFO - Considering Kospi200 index. Creating vol surface at date: 2019/01/14.\n",
      "    INFO - Using raw parameters of date: 2019/01/14 and vol surface of date: 2019/01/11.\n",
      "    INFO - \n",
      "    INFO - Now creating vol surface.\n",
      "    INFO - \n",
      "    INFO - Computed Alpha Coefficients: 0.150529, -0.037761, 4.674002, -0.061137, 4.593431\n",
      "    INFO - Elapsed time:     2 seconds.\n",
      "    INFO - \n"
     ]
    },
    {
     "name": "stdout",
     "output_type": "stream",
     "text": [
      "[2.77777778e-03 5.55555556e-03 8.33333333e-03 ... 2.99444444e+00\n",
      " 2.99722222e+00 3.00000000e+00]\n",
      "[0.12932971 0.12951642 0.12970109 ... 0.14956177 0.14956267 0.14956357]\n",
      "0.0\n"
     ]
    },
    {
     "name": "stderr",
     "output_type": "stream",
     "text": [
      "    INFO - Computed Rho Coefficients: -0.339559, -0.169791, 2.021194\n",
      "    INFO - Elapsed time:     4 seconds.\n",
      "    INFO - \n"
     ]
    },
    {
     "name": "stdout",
     "output_type": "stream",
     "text": [
      "[2.77777778e-03 5.55555556e-03 8.33333333e-03 ... 2.99444444e+00\n",
      " 2.99722222e+00 3.00000000e+00]\n",
      "[-0.50839972 -0.50745443 -0.50651444 ... -0.33995843 -0.3399562\n",
      " -0.33995397]\n",
      "0.0\n"
     ]
    },
    {
     "name": "stderr",
     "output_type": "stream",
     "text": [
      "    INFO - Computed Nu Coefficients: 0.116095, 0.661856, -0.445865, -0.133684\n",
      "    INFO - Elapsed time:     6 seconds.\n",
      "    INFO - \n",
      "    INFO - Vol surface is created.\n",
      "    INFO - Elapsed time:     6 seconds.\n",
      "    INFO - \n",
      "    INFO - Finally writing the results to excel format.\n"
     ]
    },
    {
     "name": "stdout",
     "output_type": "stream",
     "text": [
      "[2.77777778e-03 5.55555556e-03 8.33333333e-03 ... 2.99444444e+00\n",
      " 2.99722222e+00 3.00000000e+00]\n",
      "[9.24394723 6.81476352 5.70483912 ... 0.38807589 0.38786253 0.38764945]\n",
      "0.0\n"
     ]
    },
    {
     "name": "stderr",
     "output_type": "stream",
     "text": [
      "    INFO - \n",
      "    INFO - [10/179] Total Elapsed time: 66.66180 seconds.\n",
      "    INFO - \n",
      "    INFO - [11/179] Start 11'th iteration.\n",
      "    INFO - Considering Kospi200 index. Creating vol surface at date: 2019/01/15.\n",
      "    INFO - Using raw parameters of date: 2019/01/15 and vol surface of date: 2019/01/14.\n",
      "    INFO - \n",
      "    INFO - Now creating vol surface.\n",
      "    INFO - \n",
      "    INFO - Computed Alpha Coefficients: 0.498460, -0.037061, 2.588308, -0.001377, 0.003938\n",
      "    INFO - Elapsed time:     2 seconds.\n",
      "    INFO - \n"
     ]
    },
    {
     "name": "stdout",
     "output_type": "stream",
     "text": [
      "[2.77777778e-03 5.55555556e-03 8.33333333e-03 ... 2.99444444e+00\n",
      " 2.99722222e+00 3.00000000e+00]\n",
      "[0.13463902 0.13474277 0.1348458  ... 0.15090022 0.15090216 0.1509041 ]\n",
      "0.0\n"
     ]
    },
    {
     "name": "stderr",
     "output_type": "stream",
     "text": [
      "    INFO - Computed Rho Coefficients: -0.291394, -0.402042, 7.911051\n",
      "    INFO - Elapsed time:     4 seconds.\n",
      "    INFO - \n"
     ]
    },
    {
     "name": "stdout",
     "output_type": "stream",
     "text": [
      "[2.77777778e-03 5.55555556e-03 8.33333333e-03 ... 2.99444444e+00\n",
      " 2.99722222e+00 3.00000000e+00]\n",
      "[-0.684697   -0.67614838 -0.66778556 ... -0.29139363 -0.29139363\n",
      " -0.29139363]\n",
      "0.0\n"
     ]
    },
    {
     "name": "stderr",
     "output_type": "stream",
     "text": [
      "    INFO - Computed Nu Coefficients: 0.120295, 0.612384, -0.463029, -0.114460\n",
      "    INFO - Elapsed time:     5 seconds.\n",
      "    INFO - \n",
      "    INFO - Vol surface is created.\n",
      "    INFO - Elapsed time:     5 seconds.\n",
      "    INFO - \n",
      "    INFO - Finally writing the results to excel format.\n"
     ]
    },
    {
     "name": "stdout",
     "output_type": "stream",
     "text": [
      "[2.77777778e-03 5.55555556e-03 8.33333333e-03 ... 2.99444444e+00\n",
      " 2.99722222e+00 3.00000000e+00]\n",
      "[9.46421477 6.89679268 5.73506266 ... 0.381887   0.38169159 0.38149643]\n",
      "0.0\n"
     ]
    },
    {
     "name": "stderr",
     "output_type": "stream",
     "text": [
      "    INFO - \n",
      "    INFO - [11/179] Total Elapsed time: 72.86328 seconds.\n",
      "    INFO - \n",
      "    INFO - [12/179] Start 12'th iteration.\n",
      "    INFO - Considering Kospi200 index. Creating vol surface at date: 2019/01/16.\n",
      "    INFO - Using raw parameters of date: 2019/01/16 and vol surface of date: 2019/01/15.\n",
      "    INFO - \n",
      "    INFO - Now creating vol surface.\n",
      "    INFO - \n",
      "    INFO - Computed Alpha Coefficients: 0.263707, -0.005564, 2.330794, -0.008846, 0.070738\n",
      "    INFO - Elapsed time:     2 seconds.\n",
      "    INFO - \n"
     ]
    },
    {
     "name": "stdout",
     "output_type": "stream",
     "text": [
      "[2.77777778e-03 5.55555556e-03 8.33333333e-03 ... 2.99444444e+00\n",
      " 2.99722222e+00 3.00000000e+00]\n",
      "[0.13629292 0.13632051 0.136348   ... 0.15100692 0.15101761 0.15102831]\n",
      "0.0\n"
     ]
    },
    {
     "name": "stderr",
     "output_type": "stream",
     "text": [
      "    INFO - Computed Rho Coefficients: -0.332619, -0.187653, 3.687080\n",
      "    INFO - Elapsed time:     4 seconds.\n",
      "    INFO - \n"
     ]
    },
    {
     "name": "stdout",
     "output_type": "stream",
     "text": [
      "[2.77777778e-03 5.55555556e-03 8.33333333e-03 ... 2.99444444e+00\n",
      " 2.99722222e+00 3.00000000e+00]\n",
      "[-0.51836045 -0.51646782 -0.51459447 ... -0.33262234 -0.33262231\n",
      " -0.33262228]\n",
      "0.0\n"
     ]
    },
    {
     "name": "stderr",
     "output_type": "stream",
     "text": [
      "    INFO - Computed Nu Coefficients: 0.048879, 0.746722, -0.379427, -0.119028\n",
      "    INFO - Elapsed time:     6 seconds.\n",
      "    INFO - \n",
      "    INFO - Vol surface is created.\n",
      "    INFO - Elapsed time:     6 seconds.\n",
      "    INFO - \n",
      "    INFO - Finally writing the results to excel format.\n"
     ]
    },
    {
     "name": "stdout",
     "output_type": "stream",
     "text": [
      "[2.77777778e-03 5.55555556e-03 8.33333333e-03 ... 2.99444444e+00\n",
      " 2.99722222e+00 3.00000000e+00]\n",
      "[7.01425371 5.40169262 4.63689402 ... 0.39373581 0.39350054 0.39326555]\n",
      "0.0\n"
     ]
    },
    {
     "name": "stderr",
     "output_type": "stream",
     "text": [
      "    INFO - \n",
      "    INFO - [12/179] Total Elapsed time: 79.64334 seconds.\n",
      "    INFO - \n",
      "    INFO - [13/179] Start 13'th iteration.\n",
      "    INFO - Considering Kospi200 index. Creating vol surface at date: 2019/01/17.\n",
      "    INFO - Using raw parameters of date: 2019/01/17 and vol surface of date: 2019/01/16.\n",
      "    INFO - \n",
      "    INFO - Now creating vol surface.\n",
      "    INFO - \n",
      "    INFO - Computed Alpha Coefficients: 0.349095, 0.013580, 1.861307, -0.011535, 0.053510\n",
      "    INFO - Elapsed time:     2 seconds.\n",
      "    INFO - \n"
     ]
    },
    {
     "name": "stdout",
     "output_type": "stream",
     "text": [
      "[2.77777778e-03 5.55555556e-03 8.33333333e-03 ... 2.99444444e+00\n",
      " 2.99722222e+00 3.00000000e+00]\n",
      "[0.14079674 0.14077533 0.14075411 ... 0.14993448 0.14994875 0.14996301]\n",
      "0.0\n"
     ]
    },
    {
     "name": "stderr",
     "output_type": "stream",
     "text": [
      "    INFO - Computed Rho Coefficients: -0.311224, -0.278054, 4.498476\n",
      "    INFO - Elapsed time:     4 seconds.\n",
      "    INFO - \n"
     ]
    },
    {
     "name": "stdout",
     "output_type": "stream",
     "text": [
      "[2.77777778e-03 5.55555556e-03 8.33333333e-03 ... 2.99444444e+00\n",
      " 2.99722222e+00 3.00000000e+00]\n",
      "[-0.58582516 -0.58241516 -0.57904751 ... -0.31122482 -0.31122481\n",
      " -0.31122481]\n",
      "0.0\n"
     ]
    },
    {
     "name": "stderr",
     "output_type": "stream",
     "text": [
      "    INFO - Computed Nu Coefficients: -0.241774, 1.074559, -0.264941, -0.091274\n",
      "    INFO - Elapsed time:     6 seconds.\n",
      "    INFO - \n",
      "    INFO - Vol surface is created.\n",
      "    INFO - Elapsed time:     6 seconds.\n",
      "    INFO - \n",
      "    INFO - Finally writing the results to excel format.\n"
     ]
    },
    {
     "name": "stdout",
     "output_type": "stream",
     "text": [
      "[2.77777778e-03 5.55555556e-03 8.33333333e-03 ... 2.99444444e+00\n",
      " 2.99722222e+00 3.00000000e+00]\n",
      "[4.86785733 4.00955056 3.57556169 ... 0.36964068 0.36933554 0.36903069]\n",
      "0.0\n"
     ]
    },
    {
     "name": "stderr",
     "output_type": "stream",
     "text": [
      "    INFO - \n",
      "    INFO - [13/179] Total Elapsed time: 86.42965 seconds.\n",
      "    INFO - \n",
      "    INFO - [14/179] Start 14'th iteration.\n",
      "    INFO - Considering Kospi200 index. Creating vol surface at date: 2019/01/18.\n",
      "    INFO - Using raw parameters of date: 2019/01/18 and vol surface of date: 2019/01/17.\n",
      "    INFO - \n",
      "    INFO - Now creating vol surface.\n",
      "    INFO - \n",
      "    INFO - Computed Alpha Coefficients: 0.268374, -0.020084, 1.620490, -0.000610, 0.004968\n",
      "    INFO - Elapsed time:     2 seconds.\n",
      "    INFO - \n"
     ]
    },
    {
     "name": "stdout",
     "output_type": "stream",
     "text": [
      "[2.77777778e-03 5.55555556e-03 8.33333333e-03 ... 2.99444444e+00\n",
      " 2.99722222e+00 3.00000000e+00]\n",
      "[0.13328324 0.13333951 0.13339552 ... 0.14643261 0.14643388 0.14643515]\n",
      "0.0\n"
     ]
    },
    {
     "name": "stderr",
     "output_type": "stream",
     "text": [
      "    INFO - Computed Rho Coefficients: -0.260702, -0.280749, 3.416947\n",
      "    INFO - Elapsed time:     4 seconds.\n",
      "    INFO - \n"
     ]
    },
    {
     "name": "stdout",
     "output_type": "stream",
     "text": [
      "[2.77777778e-03 5.55555556e-03 8.33333333e-03 ... 2.99444444e+00\n",
      " 2.99722222e+00 3.00000000e+00]\n",
      "[-0.53879849 -0.53617142 -0.53356916 ... -0.26071181 -0.26071172\n",
      " -0.26071162]\n",
      "0.0\n"
     ]
    },
    {
     "name": "stderr",
     "output_type": "stream",
     "text": [
      "    INFO - Computed Nu Coefficients: 0.361289, 0.611850, -0.393979, -0.575966\n",
      "    INFO - Elapsed time:     6 seconds.\n",
      "    INFO - \n",
      "    INFO - Vol surface is created.\n",
      "    INFO - Elapsed time:     6 seconds.\n",
      "    INFO - \n",
      "    INFO - Finally writing the results to excel format.\n"
     ]
    },
    {
     "name": "stdout",
     "output_type": "stream",
     "text": [
      "[2.77777778e-03 5.55555556e-03 8.33333333e-03 ... 2.99444444e+00\n",
      " 2.99722222e+00 3.00000000e+00]\n",
      "[6.5711005  5.07957474 4.37654498 ... 0.43207739 0.43193842 0.43179974]\n",
      "0.0\n"
     ]
    },
    {
     "name": "stderr",
     "output_type": "stream",
     "text": [
      "    INFO - \n",
      "    INFO - [14/179] Total Elapsed time: 93.24384 seconds.\n",
      "    INFO - \n",
      "    INFO - [15/179] Start 15'th iteration.\n",
      "    INFO - Considering Kospi200 index. Creating vol surface at date: 2019/01/21.\n",
      "    INFO - Using raw parameters of date: 2019/01/21 and vol surface of date: 2019/01/18.\n",
      "    INFO - \n",
      "    INFO - Now creating vol surface.\n",
      "    INFO - \n",
      "    INFO - Computed Alpha Coefficients: 0.248060, -0.016001, 1.840933, -0.007507, 0.070439\n",
      "    INFO - Elapsed time:     2 seconds.\n",
      "    INFO - \n"
     ]
    },
    {
     "name": "stdout",
     "output_type": "stream",
     "text": [
      "[2.77777778e-03 5.55555556e-03 8.33333333e-03 ... 2.99444444e+00\n",
      " 2.99722222e+00 3.00000000e+00]\n",
      "[0.13285295 0.13290748 0.13296178 ... 0.15194371 0.15195296 0.15196221]\n",
      "0.0\n"
     ]
    },
    {
     "name": "stderr",
     "output_type": "stream",
     "text": [
      "    INFO - Computed Rho Coefficients: -0.307753, -0.180247, 2.385119\n",
      "    INFO - Elapsed time:     4 seconds.\n",
      "    INFO - \n"
     ]
    },
    {
     "name": "stdout",
     "output_type": "stream",
     "text": [
      "[2.77777778e-03 5.55555556e-03 8.33333333e-03 ... 2.99444444e+00\n",
      " 2.99722222e+00 3.00000000e+00]\n",
      "[-0.48680952 -0.48562713 -0.48445255 ... -0.30789524 -0.3078943\n",
      " -0.30789336]\n",
      "0.0\n"
     ]
    },
    {
     "name": "stderr",
     "output_type": "stream",
     "text": [
      "    INFO - Computed Nu Coefficients: -0.231904, 1.064389, -0.286242, -0.109262\n",
      "    INFO - Elapsed time:     5 seconds.\n",
      "    INFO - \n",
      "    INFO - Vol surface is created.\n",
      "    INFO - Elapsed time:     5 seconds.\n",
      "    INFO - \n",
      "    INFO - Finally writing the results to excel format.\n"
     ]
    },
    {
     "name": "stdout",
     "output_type": "stream",
     "text": [
      "[2.77777778e-03 5.55555556e-03 8.33333333e-03 ... 2.99444444e+00\n",
      " 2.99722222e+00 3.00000000e+00]\n",
      "[5.50516122 4.4712645  3.95462407 ... 0.32871236 0.32839351 0.32807497]\n",
      "0.0\n"
     ]
    },
    {
     "name": "stderr",
     "output_type": "stream",
     "text": [
      "    INFO - \n",
      "    INFO - [15/179] Total Elapsed time: 99.45559 seconds.\n",
      "    INFO - \n",
      "    INFO - [16/179] Start 16'th iteration.\n",
      "    INFO - Considering Kospi200 index. Creating vol surface at date: 2019/01/22.\n",
      "    INFO - Using raw parameters of date: 2019/01/22 and vol surface of date: 2019/01/21.\n",
      "    INFO - \n",
      "    INFO - Now creating vol surface.\n",
      "    INFO - \n",
      "    INFO - Computed Alpha Coefficients: 0.160796, 0.027027, 1.763104, -0.069849, 1.736593\n",
      "    INFO - Elapsed time:     2 seconds.\n",
      "    INFO - \n"
     ]
    },
    {
     "name": "stdout",
     "output_type": "stream",
     "text": [
      "[2.77777778e-03 5.55555556e-03 8.33333333e-03 ... 2.99444444e+00\n",
      " 2.99722222e+00 3.00000000e+00]\n",
      "[0.13592546 0.13594748 0.13596955 ... 0.15318173 0.15318827 0.1531948 ]\n",
      "0.0\n"
     ]
    },
    {
     "name": "stderr",
     "output_type": "stream",
     "text": [
      "    INFO - Computed Rho Coefficients: -0.330882, -0.195311, 2.516984\n",
      "    INFO - Elapsed time:     4 seconds.\n",
      "    INFO - \n"
     ]
    },
    {
     "name": "stdout",
     "output_type": "stream",
     "text": [
      "[2.77777778e-03 5.55555556e-03 8.33333333e-03 ... 2.99444444e+00\n",
      " 2.99722222e+00 3.00000000e+00]\n",
      "[-0.524832   -0.52348071 -0.52213883 ... -0.33098625 -0.33098553\n",
      " -0.33098481]\n",
      "0.0\n"
     ]
    },
    {
     "name": "stderr",
     "output_type": "stream",
     "text": [
      "    INFO - Computed Nu Coefficients: -0.157494, 1.007179, -0.301940, -0.120583\n",
      "    INFO - Elapsed time:     5 seconds.\n",
      "    INFO - \n",
      "    INFO - Vol surface is created.\n",
      "    INFO - Elapsed time:     5 seconds.\n",
      "    INFO - \n",
      "    INFO - Finally writing the results to excel format.\n"
     ]
    },
    {
     "name": "stdout",
     "output_type": "stream",
     "text": [
      "[2.77777778e-03 5.55555556e-03 8.33333333e-03 ... 2.99444444e+00\n",
      " 2.99722222e+00 3.00000000e+00]\n",
      "[5.79654372 4.67057036 4.1128076  ... 0.34655481 0.34624495 0.34593542]\n",
      "0.0\n"
     ]
    },
    {
     "name": "stderr",
     "output_type": "stream",
     "text": [
      "    INFO - \n",
      "    INFO - [16/179] Total Elapsed time: 105.66722 seconds.\n",
      "    INFO - \n",
      "    INFO - [17/179] Start 17'th iteration.\n",
      "    INFO - Considering Kospi200 index. Creating vol surface at date: 2019/01/23.\n",
      "    INFO - Using raw parameters of date: 2019/01/23 and vol surface of date: 2019/01/22.\n",
      "    INFO - \n",
      "    INFO - Now creating vol surface.\n",
      "    INFO - \n",
      "    INFO - Computed Alpha Coefficients: 0.149548, -0.025558, 1.235655, 0.007574, 1.228585\n",
      "    INFO - Elapsed time:     2 seconds.\n",
      "    INFO - \n"
     ]
    },
    {
     "name": "stdout",
     "output_type": "stream",
     "text": [
      "[2.77777778e-03 5.55555556e-03 8.33333333e-03 ... 2.99444444e+00\n",
      " 2.99722222e+00 3.00000000e+00]\n",
      "[0.13508878 0.13514893 0.13520886 ... 0.15066977 0.15067015 0.15067053]\n",
      "0.0\n"
     ]
    },
    {
     "name": "stderr",
     "output_type": "stream",
     "text": [
      "    INFO - Computed Rho Coefficients: -0.361156, -0.119770, 3.526327\n",
      "    INFO - Elapsed time:     4 seconds.\n",
      "    INFO - \n"
     ]
    },
    {
     "name": "stdout",
     "output_type": "stream",
     "text": [
      "[2.77777778e-03 5.55555556e-03 8.33333333e-03 ... 2.99444444e+00\n",
      " 2.99722222e+00 3.00000000e+00]\n",
      "[-0.4797583  -0.47860221 -0.4774574  ... -0.36115863 -0.3611586\n",
      " -0.36115857]\n",
      "0.0\n"
     ]
    },
    {
     "name": "stderr",
     "output_type": "stream",
     "text": [
      "    INFO - Computed Nu Coefficients: 0.051208, 0.739565, -0.395942, -0.125706\n",
      "    INFO - Elapsed time:     5 seconds.\n",
      "    INFO - \n",
      "    INFO - Vol surface is created.\n",
      "    INFO - Elapsed time:     5 seconds.\n",
      "    INFO - \n",
      "    INFO - Finally writing the results to excel format.\n"
     ]
    },
    {
     "name": "stdout",
     "output_type": "stream",
     "text": [
      "[2.77777778e-03 5.55555556e-03 8.33333333e-03 ... 2.99444444e+00\n",
      " 2.99722222e+00 3.00000000e+00]\n",
      "[7.65398909 5.82725077 4.96884895 ... 0.3799882  0.37975277 0.37951763]\n",
      "0.0\n"
     ]
    },
    {
     "name": "stderr",
     "output_type": "stream",
     "text": [
      "    INFO - \n",
      "    INFO - [17/179] Total Elapsed time: 111.88495 seconds.\n",
      "    INFO - \n",
      "    INFO - [18/179] Start 18'th iteration.\n",
      "    INFO - Considering Kospi200 index. Creating vol surface at date: 2019/01/24.\n",
      "    INFO - Using raw parameters of date: 2019/01/24 and vol surface of date: 2019/01/23.\n",
      "    INFO - \n",
      "    INFO - Now creating vol surface.\n",
      "    INFO - \n",
      "    INFO - Computed Alpha Coefficients: 0.147283, -0.072937, 1.211437, 0.046956, 1.203267\n",
      "    INFO - Elapsed time:     2 seconds.\n",
      "    INFO - \n"
     ]
    },
    {
     "name": "stdout",
     "output_type": "stream",
     "text": [
      "[2.77777778e-03 5.55555556e-03 8.33333333e-03 ... 2.99444444e+00\n",
      " 2.99722222e+00 3.00000000e+00]\n",
      "[0.12623726 0.12637384 0.12650989 ... 0.15621825 0.15621485 0.15621144]\n",
      "0.0\n"
     ]
    },
    {
     "name": "stderr",
     "output_type": "stream",
     "text": [
      "    INFO - Computed Rho Coefficients: -0.397711, -0.032322, 1.966702\n",
      "    INFO - Elapsed time:     4 seconds.\n",
      "    INFO - \n"
     ]
    },
    {
     "name": "stdout",
     "output_type": "stream",
     "text": [
      "[2.77777778e-03 5.55555556e-03 8.33333333e-03 ... 2.99444444e+00\n",
      " 2.99722222e+00 3.00000000e+00]\n",
      "[-0.42985656 -0.42968143 -0.42950724 ... -0.39780031 -0.39779982\n",
      " -0.39779933]\n",
      "0.0\n"
     ]
    },
    {
     "name": "stderr",
     "output_type": "stream",
     "text": [
      "    INFO - Computed Nu Coefficients: 0.069658, 0.708338, -0.425096, -0.200914\n",
      "    INFO - Elapsed time:     5 seconds.\n",
      "    INFO - \n",
      "    INFO - Vol surface is created.\n",
      "    INFO - Elapsed time:     5 seconds.\n",
      "    INFO - \n",
      "    INFO - Finally writing the results to excel format.\n"
     ]
    },
    {
     "name": "stdout",
     "output_type": "stream",
     "text": [
      "[2.77777778e-03 5.55555556e-03 8.33333333e-03 ... 2.99444444e+00\n",
      " 2.99722222e+00 3.00000000e+00]\n",
      "[8.7127795  6.50337196 5.48173258 ... 0.31314631 0.31291456 0.31268312]\n",
      "0.0\n"
     ]
    },
    {
     "name": "stderr",
     "output_type": "stream",
     "text": [
      "    INFO - \n",
      "    INFO - [18/179] Total Elapsed time: 118.10504 seconds.\n",
      "    INFO - \n",
      "    INFO - [19/179] Start 19'th iteration.\n",
      "    INFO - Considering Kospi200 index. Creating vol surface at date: 2019/01/25.\n",
      "    INFO - Using raw parameters of date: 2019/01/25 and vol surface of date: 2019/01/24.\n",
      "    INFO - \n",
      "    INFO - Now creating vol surface.\n",
      "    INFO - \n",
      "    INFO - Computed Alpha Coefficients: -0.602691, -0.059687, 1.498121, 0.003950, 0.005177\n",
      "    INFO - Elapsed time:     2 seconds.\n",
      "    INFO - \n"
     ]
    },
    {
     "name": "stdout",
     "output_type": "stream",
     "text": [
      "[2.77777778e-03 5.55555556e-03 8.33333333e-03 ... 2.99444444e+00\n",
      " 2.99722222e+00 3.00000000e+00]\n",
      "[0.12056567 0.12072495 0.12088354 ... 0.15391453 0.15391096 0.15390739]\n",
      "0.0\n"
     ]
    },
    {
     "name": "stderr",
     "output_type": "stream",
     "text": [
      "    INFO - Computed Rho Coefficients: -0.318172, -0.234164, 11.751129\n",
      "    INFO - Elapsed time:     4 seconds.\n",
      "    INFO - \n"
     ]
    },
    {
     "name": "stdout",
     "output_type": "stream",
     "text": [
      "[2.77777778e-03 5.55555556e-03 8.33333333e-03 ... 2.99444444e+00\n",
      " 2.99722222e+00 3.00000000e+00]\n",
      "[-0.54481538 -0.53753672 -0.53049181 ... -0.31817189 -0.31817189\n",
      " -0.31817189]\n",
      "0.0\n"
     ]
    },
    {
     "name": "stderr",
     "output_type": "stream",
     "text": [
      "    INFO - Computed Nu Coefficients: 0.168536, 0.876767, -0.347938, -0.511927\n",
      "    INFO - Elapsed time:     5 seconds.\n",
      "    INFO - \n",
      "    INFO - Vol surface is created.\n",
      "    INFO - Elapsed time:     5 seconds.\n",
      "    INFO - \n",
      "    INFO - Finally writing the results to excel format.\n"
     ]
    },
    {
     "name": "stdout",
     "output_type": "stream",
     "text": [
      "[2.77777778e-03 5.55555556e-03 8.33333333e-03 ... 2.99444444e+00\n",
      " 2.99722222e+00 3.00000000e+00]\n",
      "[6.95588883 5.4938249  4.78656669 ... 0.29777966 0.29755437 0.29732952]\n",
      "0.0\n"
     ]
    },
    {
     "name": "stderr",
     "output_type": "stream",
     "text": [
      "    INFO - \n",
      "    INFO - [19/179] Total Elapsed time: 124.39522 seconds.\n",
      "    INFO - \n",
      "    INFO - [20/179] Start 20'th iteration.\n",
      "    INFO - Considering Kospi200 index. Creating vol surface at date: 2019/01/28.\n",
      "    INFO - Using raw parameters of date: 2019/01/28 and vol surface of date: 2019/01/25.\n",
      "    INFO - \n",
      "    INFO - Now creating vol surface.\n",
      "    INFO - \n",
      "    INFO - Computed Alpha Coefficients: 0.150299, -0.050803, 1.083360, 0.027468, 1.058362\n",
      "    INFO - Elapsed time:     2 seconds.\n",
      "    INFO - \n"
     ]
    },
    {
     "name": "stdout",
     "output_type": "stream",
     "text": [
      "[2.77777778e-03 5.55555556e-03 8.33333333e-03 ... 2.99444444e+00\n",
      " 2.99722222e+00 3.00000000e+00]\n",
      "[0.12945998 0.12956242 0.12966452 ... 0.15631437 0.15631361 0.15631284]\n",
      "0.0\n"
     ]
    },
    {
     "name": "stderr",
     "output_type": "stream",
     "text": [
      "    INFO - Computed Rho Coefficients: -0.402955, -0.008499, 3.823474\n",
      "    INFO - Elapsed time:     4 seconds.\n",
      "    INFO - \n"
     ]
    },
    {
     "name": "stdout",
     "output_type": "stream",
     "text": [
      "[2.77777778e-03 5.55555556e-03 8.33333333e-03 ... 2.99444444e+00\n",
      " 2.99722222e+00 3.00000000e+00]\n",
      "[-0.41136498 -0.41127614 -0.41118823 ... -0.40295553 -0.40295553\n",
      " -0.40295553]\n",
      "0.0\n"
     ]
    },
    {
     "name": "stderr",
     "output_type": "stream",
     "text": [
      "    INFO - Computed Nu Coefficients: 0.157538, 0.712344, -0.420529, -0.350938\n",
      "    INFO - Elapsed time:     6 seconds.\n",
      "    INFO - \n",
      "    INFO - Vol surface is created.\n",
      "    INFO - Elapsed time:     6 seconds.\n",
      "    INFO - \n",
      "    INFO - Finally writing the results to excel format.\n"
     ]
    },
    {
     "name": "stdout",
     "output_type": "stream",
     "text": [
      "[2.77777778e-03 5.55555556e-03 8.33333333e-03 ... 2.99444444e+00\n",
      " 2.99722222e+00 3.00000000e+00]\n",
      "[8.61549897 6.47075103 5.47587171 ... 0.31457416 0.31435999 0.31414617]\n",
      "0.0\n"
     ]
    },
    {
     "name": "stderr",
     "output_type": "stream",
     "text": [
      "    INFO - \n",
      "    INFO - [20/179] Total Elapsed time: 131.18608 seconds.\n",
      "    INFO - \n",
      "    INFO - [21/179] Start 21'th iteration.\n",
      "    INFO - Considering Kospi200 index. Creating vol surface at date: 2019/01/29.\n",
      "    INFO - Using raw parameters of date: 2019/01/29 and vol surface of date: 2019/01/28.\n",
      "    INFO - \n",
      "    INFO - Now creating vol surface.\n",
      "    INFO - \n",
      "    INFO - Computed Alpha Coefficients: 0.155719, -0.095811, 2.180831, 0.470232, 15.158057\n",
      "    INFO - Elapsed time:     2 seconds.\n",
      "    INFO - \n"
     ]
    },
    {
     "name": "stdout",
     "output_type": "stream",
     "text": [
      "[2.77777778e-03 5.55555556e-03 8.33333333e-03 ... 2.99444444e+00\n",
      " 2.99722222e+00 3.00000000e+00]\n",
      "[0.14242931 0.14206678 0.14171987 ... 0.15633856 0.15633832 0.15633807]\n",
      "0.0\n"
     ]
    },
    {
     "name": "stderr",
     "output_type": "stream",
     "text": [
      "    INFO - Computed Rho Coefficients: -0.397932, 0.000994, 4.210178\n",
      "    INFO - Elapsed time:     4 seconds.\n",
      "    INFO - \n"
     ]
    },
    {
     "name": "stdout",
     "output_type": "stream",
     "text": [
      "[2.77777778e-03 5.55555556e-03 8.33333333e-03 ... 2.99444444e+00\n",
      " 2.99722222e+00 3.00000000e+00]\n",
      "[-0.39695004 -0.39696146 -0.39697275 ... -0.39793221 -0.39793221\n",
      " -0.39793221]\n",
      "0.0\n"
     ]
    },
    {
     "name": "stderr",
     "output_type": "stream",
     "text": [
      "    INFO - Computed Nu Coefficients: 0.246527, 0.706536, -0.413403, -0.583775\n",
      "    INFO - Elapsed time:     5 seconds.\n",
      "    INFO - \n",
      "    INFO - Vol surface is created.\n",
      "    INFO - Elapsed time:     5 seconds.\n",
      "    INFO - \n",
      "    INFO - Finally writing the results to excel format.\n"
     ]
    },
    {
     "name": "stdout",
     "output_type": "stream",
     "text": [
      "[2.77777778e-03 5.55555556e-03 8.33333333e-03 ... 2.99444444e+00\n",
      " 2.99722222e+00 3.00000000e+00]\n",
      "[8.28572871 6.27298287 5.33469076 ... 0.32469727 0.32454071 0.32438448]\n",
      "0.0\n"
     ]
    },
    {
     "name": "stderr",
     "output_type": "stream",
     "text": [
      "    INFO - \n",
      "    INFO - [21/179] Total Elapsed time: 137.43675 seconds.\n",
      "    INFO - \n",
      "    INFO - [22/179] Start 22'th iteration.\n",
      "    INFO - Considering Kospi200 index. Creating vol surface at date: 2019/01/30.\n",
      "    INFO - Using raw parameters of date: 2019/01/30 and vol surface of date: 2019/01/29.\n",
      "    INFO - \n",
      "    INFO - Now creating vol surface.\n",
      "    INFO - \n",
      "    INFO - Computed Alpha Coefficients: 0.149641, -0.030933, 2.353840, 35.138993, 265.856827\n",
      "    INFO - Elapsed time:     2 seconds.\n",
      "    INFO - \n"
     ]
    },
    {
     "name": "stdout",
     "output_type": "stream",
     "text": [
      "[2.77777778e-03 5.55555556e-03 8.33333333e-03 ... 2.99444444e+00\n",
      " 2.99722222e+00 3.00000000e+00]\n",
      "[0.23004081 0.20572629 0.18990497 ... 0.14979599 0.14979591 0.14979583]\n",
      "0.0\n"
     ]
    },
    {
     "name": "stderr",
     "output_type": "stream",
     "text": [
      "    INFO - Computed Rho Coefficients: -0.339785, 45.770591, 148.538015\n",
      "    INFO - Elapsed time:     4 seconds.\n",
      "    INFO - \n"
     ]
    },
    {
     "name": "stdout",
     "output_type": "stream",
     "text": [
      "[2.77777778e-03 5.55555556e-03 8.33333333e-03 ... 2.99444444e+00\n",
      " 2.99722222e+00 3.00000000e+00]\n",
      "[29.95683611 19.71425442 12.93445099 ... -0.33978459 -0.33978459\n",
      " -0.33978459]\n",
      "0.0\n"
     ]
    },
    {
     "name": "stderr",
     "output_type": "stream",
     "text": [
      "    INFO - Computed Nu Coefficients: 0.168568, 0.593745, -0.502634, -0.134477\n",
      "    INFO - Elapsed time:     6 seconds.\n",
      "    INFO - \n",
      "    INFO - Vol surface is created.\n",
      "    INFO - Elapsed time:     6 seconds.\n",
      "    INFO - \n",
      "    INFO - Finally writing the results to excel format.\n"
     ]
    },
    {
     "name": "stdout",
     "output_type": "stream",
     "text": [
      "[2.77777778e-03 5.55555556e-03 8.33333333e-03 ... 2.99444444e+00\n",
      " 2.99722222e+00 3.00000000e+00]\n",
      "[11.60580542  8.23815178  6.74786561 ...  0.39728789  0.39709594\n",
      "  0.39690424]\n",
      "0.0\n"
     ]
    },
    {
     "name": "stderr",
     "output_type": "stream",
     "text": [
      "    INFO - \n",
      "    INFO - [22/179] Total Elapsed time: 144.21609 seconds.\n",
      "    INFO - \n",
      "    INFO - [23/179] Start 23'th iteration.\n",
      "    INFO - Considering Kospi200 index. Creating vol surface at date: 2019/01/31.\n",
      "    INFO - Using raw parameters of date: 2019/01/31 and vol surface of date: 2019/01/30.\n",
      "    INFO - \n",
      "    INFO - Now creating vol surface.\n",
      "    INFO - \n",
      "    INFO - Computed Alpha Coefficients: 0.159093, 0.727008, 13.015157, -0.727644, 12.939889\n",
      "    INFO - Elapsed time:     2 seconds.\n",
      "    INFO - \n"
     ]
    },
    {
     "name": "stdout",
     "output_type": "stream",
     "text": [
      "[2.77777778e-03 5.55555556e-03 8.33333333e-03 ... 2.99444444e+00\n",
      " 2.99722222e+00 3.00000000e+00]\n",
      "[0.15773367 0.15679574 0.15590279 ... 0.15764131 0.15764265 0.15764399]\n",
      "0.0\n"
     ]
    },
    {
     "name": "stderr",
     "output_type": "stream",
     "text": [
      "    INFO - Computed Rho Coefficients: -0.378938, -0.010835, 15.566415\n",
      "    INFO - Elapsed time:     5 seconds.\n",
      "    INFO - \n"
     ]
    },
    {
     "name": "stdout",
     "output_type": "stream",
     "text": [
      "[2.77777778e-03 5.55555556e-03 8.33333333e-03 ... 2.99444444e+00\n",
      " 2.99722222e+00 3.00000000e+00]\n",
      "[-0.38931485 -0.38887573 -0.3884552  ... -0.37893847 -0.37893847\n",
      " -0.37893847]\n",
      "0.0\n"
     ]
    },
    {
     "name": "stderr",
     "output_type": "stream",
     "text": [
      "    INFO - Computed Nu Coefficients: 0.256524, 0.737655, -0.396566, -0.589551\n",
      "    INFO - Elapsed time:     7 seconds.\n",
      "    INFO - \n",
      "    INFO - Vol surface is created.\n",
      "    INFO - Elapsed time:     7 seconds.\n",
      "    INFO - \n",
      "    INFO - Finally writing the results to excel format.\n"
     ]
    },
    {
     "name": "stdout",
     "output_type": "stream",
     "text": [
      "[2.77777778e-03 5.55555556e-03 8.33333333e-03 ... 2.99444444e+00\n",
      " 2.99722222e+00 3.00000000e+00]\n",
      "[7.85776183 6.02146506 5.15715344 ... 0.33823285 0.33806916 0.33790583]\n",
      "0.0\n"
     ]
    },
    {
     "name": "stderr",
     "output_type": "stream",
     "text": [
      "    INFO - \n",
      "    INFO - [23/179] Total Elapsed time: 152.27536 seconds.\n",
      "    INFO - \n",
      "    INFO - [24/179] Start 24'th iteration.\n",
      "    INFO - Considering Kospi200 index. Creating vol surface at date: 2019/02/01.\n",
      "    INFO - Using raw parameters of date: 2019/02/01 and vol surface of date: 2019/01/31.\n",
      "    INFO - \n",
      "    INFO - Now creating vol surface.\n",
      "    INFO - \n",
      "    INFO - Computed Alpha Coefficients: 0.154871, -0.063226, 2.027440, 0.234474, 14.528385\n",
      "    INFO - Elapsed time:     2 seconds.\n",
      "    INFO - \n"
     ]
    },
    {
     "name": "stdout",
     "output_type": "stream",
     "text": [
      "[2.77777778e-03 5.55555556e-03 8.33333333e-03 ... 2.99444444e+00\n",
      " 2.99722222e+00 3.00000000e+00]\n",
      "[0.13967854 0.13953987 0.13940847 ... 0.15517002 0.15517008 0.15517014]\n",
      "0.0\n"
     ]
    },
    {
     "name": "stderr",
     "output_type": "stream",
     "text": [
      "    INFO - Computed Rho Coefficients: -0.429358, 0.290396, 33.422591\n",
      "    INFO - Elapsed time:     4 seconds.\n",
      "    INFO - \n"
     ]
    },
    {
     "name": "stdout",
     "output_type": "stream",
     "text": [
      "[2.77777778e-03 5.55555556e-03 8.33333333e-03 ... 2.99444444e+00\n",
      " 2.99722222e+00 3.00000000e+00]\n",
      "[-0.16470823 -0.18817238 -0.20955617 ... -0.42935782 -0.42935782\n",
      " -0.42935782]\n",
      "0.0\n"
     ]
    },
    {
     "name": "stderr",
     "output_type": "stream",
     "text": [
      "    INFO - Computed Nu Coefficients: 0.244617, 0.858299, -0.329194, -0.663068\n",
      "    INFO - Elapsed time:     6 seconds.\n",
      "    INFO - \n",
      "    INFO - Vol surface is created.\n",
      "    INFO - Elapsed time:     6 seconds.\n",
      "    INFO - \n",
      "    INFO - Finally writing the results to excel format.\n"
     ]
    },
    {
     "name": "stdout",
     "output_type": "stream",
     "text": [
      "[2.77777778e-03 5.55555556e-03 8.33333333e-03 ... 2.99444444e+00\n",
      " 2.99722222e+00 3.00000000e+00]\n",
      "[6.19245337 4.97026923 4.37217912 ... 0.32675391 0.32657775 0.32640198]\n",
      "0.0\n"
     ]
    },
    {
     "name": "stderr",
     "output_type": "stream",
     "text": [
      "    INFO - \n",
      "    INFO - [24/179] Total Elapsed time: 159.11428 seconds.\n",
      "    INFO - \n",
      "    INFO - [25/179] Start 25'th iteration.\n",
      "    INFO - Considering Kospi200 index. Creating vol surface at date: 2019/02/04.\n",
      "    INFO - Using raw parameters of date: 2019/02/04 and vol surface of date: 2019/02/01.\n",
      "    INFO - \n",
      "    INFO - Now creating vol surface.\n",
      "    INFO - \n",
      "    INFO - Computed Alpha Coefficients: 0.151919, -0.097753, 1.623353, 0.167350, 4.060356\n",
      "    INFO - Elapsed time:     2 seconds.\n",
      "    INFO - \n"
     ]
    },
    {
     "name": "stdout",
     "output_type": "stream",
     "text": [
      "[2.77777778e-03 5.55555556e-03 8.33333333e-03 ... 2.99444444e+00\n",
      " 2.99722222e+00 3.00000000e+00]\n",
      "[0.13295721 0.13299709 0.13303747 ... 0.15484268 0.15484164 0.15484059]\n",
      "0.0\n"
     ]
    },
    {
     "name": "stderr",
     "output_type": "stream",
     "text": [
      "    INFO - Computed Rho Coefficients: -0.435337, 0.188133, 17.840521\n",
      "    INFO - Elapsed time:     4 seconds.\n",
      "    INFO - \n"
     ]
    },
    {
     "name": "stdout",
     "output_type": "stream",
     "text": [
      "[2.77777778e-03 5.55555556e-03 8.33333333e-03 ... 2.99444444e+00\n",
      " 2.99722222e+00 3.00000000e+00]\n",
      "[-0.2563004  -0.26495667 -0.27319441 ... -0.43533714 -0.43533714\n",
      " -0.43533714]\n",
      "0.0\n"
     ]
    },
    {
     "name": "stderr",
     "output_type": "stream",
     "text": [
      "    INFO - Computed Nu Coefficients: 0.242749, 0.864418, -0.327579, -0.664554\n",
      "    INFO - Elapsed time:     6 seconds.\n",
      "    INFO - \n",
      "    INFO - Vol surface is created.\n",
      "    INFO - Elapsed time:     6 seconds.\n",
      "    INFO - \n",
      "    INFO - Finally writing the results to excel format.\n"
     ]
    },
    {
     "name": "stdout",
     "output_type": "stream",
     "text": [
      "[2.77777778e-03 5.55555556e-03 8.33333333e-03 ... 2.99444444e+00\n",
      " 2.99722222e+00 3.00000000e+00]\n",
      "[6.17628474 4.96230043 4.36766592 ... 0.32525057 0.32507341 0.32489665]\n",
      "0.0\n"
     ]
    },
    {
     "name": "stderr",
     "output_type": "stream",
     "text": [
      "    INFO - \n",
      "    INFO - [25/179] Total Elapsed time: 165.91239 seconds.\n",
      "    INFO - \n",
      "    INFO - [26/179] Start 26'th iteration.\n",
      "    INFO - Considering Kospi200 index. Creating vol surface at date: 2019/02/05.\n",
      "    INFO - Using raw parameters of date: 2019/02/05 and vol surface of date: 2019/02/04.\n",
      "    INFO - \n",
      "    INFO - Now creating vol surface.\n",
      "    INFO - \n",
      "    INFO - Computed Alpha Coefficients: 0.151919, -0.097753, 1.623353, 0.167350, 4.060356\n",
      "    INFO - Elapsed time:     2 seconds.\n",
      "    INFO - \n"
     ]
    },
    {
     "name": "stdout",
     "output_type": "stream",
     "text": [
      "[2.77777778e-03 5.55555556e-03 8.33333333e-03 ... 2.99444444e+00\n",
      " 2.99722222e+00 3.00000000e+00]\n",
      "[0.13295721 0.13299709 0.13303747 ... 0.15484268 0.15484164 0.15484059]\n",
      "0.0\n"
     ]
    },
    {
     "name": "stderr",
     "output_type": "stream",
     "text": [
      "    INFO - Computed Rho Coefficients: -0.435337, 0.188133, 17.840521\n",
      "    INFO - Elapsed time:     4 seconds.\n",
      "    INFO - \n"
     ]
    },
    {
     "name": "stdout",
     "output_type": "stream",
     "text": [
      "[2.77777778e-03 5.55555556e-03 8.33333333e-03 ... 2.99444444e+00\n",
      " 2.99722222e+00 3.00000000e+00]\n",
      "[-0.2563004  -0.26495667 -0.27319441 ... -0.43533714 -0.43533714\n",
      " -0.43533714]\n",
      "0.0\n"
     ]
    },
    {
     "name": "stderr",
     "output_type": "stream",
     "text": [
      "    INFO - Computed Nu Coefficients: 0.242749, 0.864418, -0.327579, -0.664554\n",
      "    INFO - Elapsed time:     6 seconds.\n",
      "    INFO - \n",
      "    INFO - Vol surface is created.\n",
      "    INFO - Elapsed time:     6 seconds.\n",
      "    INFO - \n",
      "    INFO - Finally writing the results to excel format.\n"
     ]
    },
    {
     "name": "stdout",
     "output_type": "stream",
     "text": [
      "[2.77777778e-03 5.55555556e-03 8.33333333e-03 ... 2.99444444e+00\n",
      " 2.99722222e+00 3.00000000e+00]\n",
      "[6.17628474 4.96230043 4.36766592 ... 0.32525057 0.32507341 0.32489665]\n",
      "0.0\n"
     ]
    },
    {
     "name": "stderr",
     "output_type": "stream",
     "text": [
      "    INFO - \n",
      "    INFO - [26/179] Total Elapsed time: 172.71625 seconds.\n",
      "    INFO - \n",
      "    INFO - [27/179] Start 27'th iteration.\n",
      "    INFO - Considering Kospi200 index. Creating vol surface at date: 2019/02/06.\n",
      "    INFO - Using raw parameters of date: 2019/02/06 and vol surface of date: 2019/02/05.\n",
      "    INFO - \n",
      "    INFO - Now creating vol surface.\n",
      "    INFO - \n",
      "    INFO - Computed Alpha Coefficients: 0.151919, -0.097753, 1.623353, 0.167350, 4.060356\n",
      "    INFO - Elapsed time:     2 seconds.\n",
      "    INFO - \n"
     ]
    },
    {
     "name": "stdout",
     "output_type": "stream",
     "text": [
      "[2.77777778e-03 5.55555556e-03 8.33333333e-03 ... 2.99444444e+00\n",
      " 2.99722222e+00 3.00000000e+00]\n",
      "[0.13295721 0.13299709 0.13303747 ... 0.15484268 0.15484164 0.15484059]\n",
      "0.0\n"
     ]
    },
    {
     "name": "stderr",
     "output_type": "stream",
     "text": [
      "    INFO - Computed Rho Coefficients: -0.435337, 0.188133, 17.840521\n",
      "    INFO - Elapsed time:     4 seconds.\n",
      "    INFO - \n"
     ]
    },
    {
     "name": "stdout",
     "output_type": "stream",
     "text": [
      "[2.77777778e-03 5.55555556e-03 8.33333333e-03 ... 2.99444444e+00\n",
      " 2.99722222e+00 3.00000000e+00]\n",
      "[-0.2563004  -0.26495667 -0.27319441 ... -0.43533714 -0.43533714\n",
      " -0.43533714]\n",
      "0.0\n"
     ]
    },
    {
     "name": "stderr",
     "output_type": "stream",
     "text": [
      "    INFO - Computed Nu Coefficients: 0.242749, 0.864418, -0.327579, -0.664554\n",
      "    INFO - Elapsed time:     6 seconds.\n",
      "    INFO - \n",
      "    INFO - Vol surface is created.\n",
      "    INFO - Elapsed time:     6 seconds.\n",
      "    INFO - \n",
      "    INFO - Finally writing the results to excel format.\n"
     ]
    },
    {
     "name": "stdout",
     "output_type": "stream",
     "text": [
      "[2.77777778e-03 5.55555556e-03 8.33333333e-03 ... 2.99444444e+00\n",
      " 2.99722222e+00 3.00000000e+00]\n",
      "[6.17628474 4.96230043 4.36766592 ... 0.32525057 0.32507341 0.32489665]\n",
      "0.0\n"
     ]
    },
    {
     "name": "stderr",
     "output_type": "stream",
     "text": [
      "    INFO - \n",
      "    INFO - [27/179] Total Elapsed time: 179.55686 seconds.\n",
      "    INFO - \n",
      "    INFO - [28/179] Start 28'th iteration.\n",
      "    INFO - Considering Kospi200 index. Creating vol surface at date: 2019/02/07.\n",
      "    INFO - Using raw parameters of date: 2019/02/07 and vol surface of date: 2019/02/06.\n",
      "    INFO - \n",
      "    INFO - Now creating vol surface.\n",
      "    INFO - \n",
      "    INFO - Computed Alpha Coefficients: 0.150354, -0.162020, 1.416310, 0.426154, 4.094601\n",
      "    INFO - Elapsed time:     2 seconds.\n",
      "    INFO - \n"
     ]
    },
    {
     "name": "stdout",
     "output_type": "stream",
     "text": [
      "[2.77777778e-03 5.55555556e-03 8.33333333e-03 ... 2.99444444e+00\n",
      " 2.99722222e+00 3.00000000e+00]\n",
      "[0.13989419 0.13975641 0.13962128 ... 0.15719567 0.15719426 0.15719285]\n",
      "0.0\n"
     ]
    },
    {
     "name": "stderr",
     "output_type": "stream",
     "text": [
      "    INFO - Computed Rho Coefficients: -0.422447, 0.047490, 7.206689\n",
      "    INFO - Elapsed time:     4 seconds.\n",
      "    INFO - \n"
     ]
    },
    {
     "name": "stdout",
     "output_type": "stream",
     "text": [
      "[2.77777778e-03 5.55555556e-03 8.33333333e-03 ... 2.99444444e+00\n",
      " 2.99722222e+00 3.00000000e+00]\n",
      "[-0.37589858 -0.37682115 -0.37772544 ... -0.42244714 -0.42244714\n",
      " -0.42244714]\n",
      "0.0\n"
     ]
    },
    {
     "name": "stderr",
     "output_type": "stream",
     "text": [
      "    INFO - Computed Nu Coefficients: 0.308409, 1.024337, -0.245757, -1.024903\n",
      "    INFO - Elapsed time:     6 seconds.\n",
      "    INFO - \n",
      "    INFO - Vol surface is created.\n",
      "    INFO - Elapsed time:     6 seconds.\n",
      "    INFO - \n",
      "    INFO - Finally writing the results to excel format.\n"
     ]
    },
    {
     "name": "stdout",
     "output_type": "stream",
     "text": [
      "[2.77777778e-03 5.55555556e-03 8.33333333e-03 ... 2.99444444e+00\n",
      " 2.99722222e+00 3.00000000e+00]\n",
      "[4.64787532 3.95779321 3.60228663 ... 0.34476063 0.34464903 0.34453777]\n",
      "0.0\n"
     ]
    },
    {
     "name": "stderr",
     "output_type": "stream",
     "text": [
      "    INFO - \n",
      "    INFO - [28/179] Total Elapsed time: 186.40717 seconds.\n",
      "    INFO - \n",
      "    INFO - [29/179] Start 29'th iteration.\n",
      "    INFO - Considering Kospi200 index. Creating vol surface at date: 2019/02/08.\n",
      "    INFO - Using raw parameters of date: 2019/02/08 and vol surface of date: 2019/02/07.\n",
      "    INFO - \n",
      "    INFO - Now creating vol surface.\n",
      "    INFO - \n",
      "    INFO - Computed Alpha Coefficients: 0.135505, -0.026714, 1.235318, 0.000034, 0.001987\n",
      "    INFO - Elapsed time:     2 seconds.\n",
      "    INFO - \n"
     ]
    },
    {
     "name": "stdout",
     "output_type": "stream",
     "text": [
      "[2.77777778e-03 5.55555556e-03 8.33333333e-03 ... 2.99444444e+00\n",
      " 2.99722222e+00 3.00000000e+00]\n",
      "[0.13106548 0.13113926 0.13121279 ... 0.15203096 0.15203275 0.15203453]\n",
      "0.0\n"
     ]
    },
    {
     "name": "stderr",
     "output_type": "stream",
     "text": [
      "    INFO - Computed Rho Coefficients: -0.417840, -0.939182, 88.146719\n",
      "    INFO - Elapsed time:     4 seconds.\n",
      "    INFO - \n"
     ]
    },
    {
     "name": "stdout",
     "output_type": "stream",
     "text": [
      "[2.77777778e-03 5.55555556e-03 8.33333333e-03 ... 2.99444444e+00\n",
      " 2.99722222e+00 3.00000000e+00]\n",
      "[-1.15305044 -0.9933777  -0.86838262 ... -0.41783989 -0.41783989\n",
      " -0.41783989]\n",
      "0.0\n"
     ]
    },
    {
     "name": "stderr",
     "output_type": "stream",
     "text": [
      "    INFO - Computed Nu Coefficients: 0.438207, 1.171245, -0.187171, -1.620127\n",
      "    INFO - Elapsed time:     5 seconds.\n",
      "    INFO - \n",
      "    INFO - Vol surface is created.\n",
      "    INFO - Elapsed time:     5 seconds.\n",
      "    INFO - \n",
      "    INFO - Finally writing the results to excel format.\n"
     ]
    },
    {
     "name": "stdout",
     "output_type": "stream",
     "text": [
      "[2.77777778e-03 5.55555556e-03 8.33333333e-03 ... 2.99444444e+00\n",
      " 2.99722222e+00 3.00000000e+00]\n",
      "[3.94700465 3.50623883 3.26924869 ... 0.44566427 0.4456295  0.44559489]\n",
      "0.0\n"
     ]
    },
    {
     "name": "stderr",
     "output_type": "stream",
     "text": [
      "    INFO - \n",
      "    INFO - [29/179] Total Elapsed time: 192.70122 seconds.\n",
      "    INFO - \n",
      "    INFO - [30/179] Start 30'th iteration.\n",
      "    INFO - Considering Kospi200 index. Creating vol surface at date: 2019/02/11.\n",
      "    INFO - Using raw parameters of date: 2019/02/11 and vol surface of date: 2019/02/08.\n",
      "    INFO - \n",
      "    INFO - Now creating vol surface.\n",
      "    INFO - \n",
      "    INFO - Computed Alpha Coefficients: 0.148838, -0.022559, 1.743964, -0.057256, 5.315120\n",
      "    INFO - Elapsed time:     1 seconds.\n",
      "    INFO - \n"
     ]
    },
    {
     "name": "stdout",
     "output_type": "stream",
     "text": [
      "[2.77777778e-03 5.55555556e-03 8.33333333e-03 ... 2.99444444e+00\n",
      " 2.99722222e+00 3.00000000e+00]\n",
      "[0.12527205 0.12541262 0.12555212 ... 0.14809133 0.1480923  0.14809326]\n",
      "0.0\n"
     ]
    },
    {
     "name": "stderr",
     "output_type": "stream",
     "text": [
      "    INFO - Computed Rho Coefficients: -0.393657, 1.154713, 39.690799\n",
      "    INFO - Elapsed time:     3 seconds.\n",
      "    INFO - \n"
     ]
    },
    {
     "name": "stdout",
     "output_type": "stream",
     "text": [
      "[2.77777778e-03 5.55555556e-03 8.33333333e-03 ... 2.99444444e+00\n",
      " 2.99722222e+00 3.00000000e+00]\n",
      "[ 0.64051418  0.53255525  0.43586634 ... -0.3936566  -0.3936566\n",
      " -0.3936566 ]\n",
      "0.0\n"
     ]
    },
    {
     "name": "stderr",
     "output_type": "stream",
     "text": [
      "    INFO - Computed Nu Coefficients: 0.171835, 0.604004, -0.511418, -0.107197\n",
      "    INFO - Elapsed time:     5 seconds.\n",
      "    INFO - \n",
      "    INFO - Vol surface is created.\n",
      "    INFO - Elapsed time:     5 seconds.\n",
      "    INFO - \n",
      "    INFO - Finally writing the results to excel format.\n"
     ]
    },
    {
     "name": "stdout",
     "output_type": "stream",
     "text": [
      "[2.77777778e-03 5.55555556e-03 8.33333333e-03 ... 2.99444444e+00\n",
      " 2.99722222e+00 3.00000000e+00]\n",
      "[12.42501319  8.765282    7.15386838 ...  0.42189082  0.42169786\n",
      "  0.42150516]\n",
      "0.0\n"
     ]
    },
    {
     "name": "stderr",
     "output_type": "stream",
     "text": [
      "    INFO - \n",
      "    INFO - [30/179] Total Elapsed time: 198.70584 seconds.\n",
      "    INFO - \n",
      "    INFO - [31/179] Start 31'th iteration.\n",
      "    INFO - Considering Kospi200 index. Creating vol surface at date: 2019/02/12.\n",
      "    INFO - Using raw parameters of date: 2019/02/12 and vol surface of date: 2019/02/11.\n",
      "    INFO - \n",
      "    INFO - Now creating vol surface.\n",
      "    INFO - \n",
      "    INFO - Computed Alpha Coefficients: 0.165079, 0.002049, 1.358226, -0.052015, 1.352608\n",
      "    INFO - Elapsed time:     1 seconds.\n",
      "    INFO - \n"
     ]
    },
    {
     "name": "stdout",
     "output_type": "stream",
     "text": [
      "[2.77777778e-03 5.55555556e-03 8.33333333e-03 ... 2.99444444e+00\n",
      " 2.99722222e+00 3.00000000e+00]\n",
      "[0.1281989  0.12826522 0.12833137 ... 0.1557761  0.15578403 0.15579195]\n",
      "0.0\n"
     ]
    },
    {
     "name": "stderr",
     "output_type": "stream",
     "text": [
      "    INFO - Computed Rho Coefficients: -0.360486, 2160.489914, 126.543615\n",
      "    INFO - Elapsed time:     3 seconds.\n",
      "    INFO - \n"
     ]
    },
    {
     "name": "stdout",
     "output_type": "stream",
     "text": [
      "[2.77777778e-03 5.55555556e-03 8.33333333e-03 ... 2.99444444e+00\n",
      " 2.99722222e+00 3.00000000e+00]\n",
      "[ 1.51981376e+03  1.06927179e+03  7.52259297e+02 ... -3.60485555e-01\n",
      " -3.60485555e-01 -3.60485555e-01]\n",
      "0.0\n"
     ]
    },
    {
     "name": "stderr",
     "output_type": "stream",
     "text": [
      "    INFO - Computed Nu Coefficients: 0.121733, 0.642279, -0.497933, -0.128015\n",
      "    INFO - Elapsed time:     5 seconds.\n",
      "    INFO - \n",
      "    INFO - Vol surface is created.\n",
      "    INFO - Elapsed time:     5 seconds.\n",
      "    INFO - \n",
      "    INFO - Finally writing the results to excel format.\n"
     ]
    },
    {
     "name": "stdout",
     "output_type": "stream",
     "text": [
      "[2.77777778e-03 5.55555556e-03 8.33333333e-03 ... 2.99444444e+00\n",
      " 2.99722222e+00 3.00000000e+00]\n",
      "[12.15644377  8.64073249  7.08082517 ...  0.37528686  0.37507972\n",
      "  0.37487285]\n",
      "0.0\n"
     ]
    },
    {
     "name": "stderr",
     "output_type": "stream",
     "text": [
      "    INFO - \n",
      "    INFO - [31/179] Total Elapsed time: 204.79145 seconds.\n",
      "    INFO - \n",
      "    INFO - [32/179] Start 32'th iteration.\n",
      "    INFO - Considering Kospi200 index. Creating vol surface at date: 2019/02/13.\n",
      "    INFO - Using raw parameters of date: 2019/02/13 and vol surface of date: 2019/02/12.\n",
      "    INFO - \n",
      "    INFO - Now creating vol surface.\n",
      "    INFO - \n",
      "    INFO - Computed Alpha Coefficients: 0.098793, -0.038336, 1.492219, 0.000252, 0.004581\n",
      "    INFO - Elapsed time:     2 seconds.\n",
      "    INFO - \n"
     ]
    },
    {
     "name": "stdout",
     "output_type": "stream",
     "text": [
      "[2.77777778e-03 5.55555556e-03 8.33333333e-03 ... 2.99444444e+00\n",
      " 2.99722222e+00 3.00000000e+00]\n",
      "[0.12823937 0.12834485 0.12844989 ... 0.15315398 0.15315485 0.15315572]\n",
      "0.0\n"
     ]
    },
    {
     "name": "stderr",
     "output_type": "stream",
     "text": [
      "    INFO - Computed Rho Coefficients: -0.391149, 0.373312, 14.420158\n",
      "    INFO - Elapsed time:     4 seconds.\n",
      "    INFO - \n"
     ]
    },
    {
     "name": "stdout",
     "output_type": "stream",
     "text": [
      "[2.77777778e-03 5.55555556e-03 8.33333333e-03 ... 2.99444444e+00\n",
      " 2.99722222e+00 3.00000000e+00]\n",
      "[-0.03249485 -0.04657719 -0.0601066  ... -0.39114938 -0.39114938\n",
      " -0.39114938]\n",
      "0.0\n"
     ]
    },
    {
     "name": "stderr",
     "output_type": "stream",
     "text": [
      "    INFO - Computed Nu Coefficients: 0.111423, 0.630236, -0.515245, -0.130733\n",
      "    INFO - Elapsed time:     5 seconds.\n",
      "    INFO - \n",
      "    INFO - Vol surface is created.\n",
      "    INFO - Elapsed time:     5 seconds.\n",
      "    INFO - \n",
      "    INFO - Finally writing the results to excel format.\n"
     ]
    },
    {
     "name": "stdout",
     "output_type": "stream",
     "text": [
      "[2.77777778e-03 5.55555556e-03 8.33333333e-03 ... 2.99444444e+00\n",
      " 2.99722222e+00 3.00000000e+00]\n",
      "[13.18718376  9.25687461  7.52994458 ...  0.35356508  0.35336155\n",
      "  0.3531583 ]\n",
      "0.0\n"
     ]
    },
    {
     "name": "stderr",
     "output_type": "stream",
     "text": [
      "    INFO - \n",
      "    INFO - [32/179] Total Elapsed time: 211.09927 seconds.\n",
      "    INFO - \n",
      "    INFO - [33/179] Start 33'th iteration.\n",
      "    INFO - Considering Kospi200 index. Creating vol surface at date: 2019/02/14.\n",
      "    INFO - Using raw parameters of date: 2019/02/14 and vol surface of date: 2019/02/13.\n",
      "    INFO - \n",
      "    INFO - Now creating vol surface.\n",
      "    INFO - \n",
      "    INFO - Computed Alpha Coefficients: 0.157751, -0.025545, 1.168950, -0.013042, 1.106507\n",
      "    INFO - Elapsed time:     2 seconds.\n",
      "    INFO - \n"
     ]
    },
    {
     "name": "stdout",
     "output_type": "stream",
     "text": [
      "[2.77777778e-03 5.55555556e-03 8.33333333e-03 ... 2.99444444e+00\n",
      " 2.99722222e+00 3.00000000e+00]\n",
      "[0.12420059 0.12428926 0.12437766 ... 0.1536636  0.15366852 0.15367343]\n",
      "0.0\n"
     ]
    },
    {
     "name": "stderr",
     "output_type": "stream",
     "text": [
      "    INFO - Computed Rho Coefficients: -0.387526, 0.174533, 6.936112\n",
      "    INFO - Elapsed time:     4 seconds.\n",
      "    INFO - \n"
     ]
    },
    {
     "name": "stdout",
     "output_type": "stream",
     "text": [
      "[2.77777778e-03 5.55555556e-03 8.33333333e-03 ... 2.99444444e+00\n",
      " 2.99722222e+00 3.00000000e+00]\n",
      "[-0.21632378 -0.21959075 -0.22279538 ... -0.38752576 -0.38752576\n",
      " -0.38752576]\n",
      "0.0\n"
     ]
    },
    {
     "name": "stderr",
     "output_type": "stream",
     "text": [
      "    INFO - Computed Nu Coefficients: 0.100222, 0.663025, -0.473106, -0.118545\n",
      "    INFO - Elapsed time:     5 seconds.\n",
      "    INFO - \n",
      "    INFO - Vol surface is created.\n",
      "    INFO - Elapsed time:     5 seconds.\n",
      "    INFO - \n",
      "    INFO - Finally writing the results to excel format.\n"
     ]
    },
    {
     "name": "stdout",
     "output_type": "stream",
     "text": [
      "[2.77777778e-03 5.55555556e-03 8.33333333e-03 ... 2.99444444e+00\n",
      " 2.99722222e+00 3.00000000e+00]\n",
      "[10.83491806  7.83107763  6.47954619 ...  0.37692698  0.37671457\n",
      "  0.37650242]\n",
      "0.0\n"
     ]
    },
    {
     "name": "stderr",
     "output_type": "stream",
     "text": [
      "    INFO - \n",
      "    INFO - [33/179] Total Elapsed time: 217.37771 seconds.\n",
      "    INFO - \n",
      "    INFO - [34/179] Start 34'th iteration.\n",
      "    INFO - Considering Kospi200 index. Creating vol surface at date: 2019/02/15.\n",
      "    INFO - Using raw parameters of date: 2019/02/15 and vol surface of date: 2019/02/14.\n",
      "    INFO - \n",
      "    INFO - Now creating vol surface.\n",
      "    INFO - \n",
      "    INFO - Computed Alpha Coefficients: 0.159167, -0.025538, 0.710786, 0.001362, 0.761148\n",
      "    INFO - Elapsed time:     2 seconds.\n",
      "    INFO - \n"
     ]
    },
    {
     "name": "stdout",
     "output_type": "stream",
     "text": [
      "[2.77777778e-03 5.55555556e-03 8.33333333e-03 ... 2.99444444e+00\n",
      " 2.99722222e+00 3.00000000e+00]\n",
      "[0.12509633 0.12516517 0.12523387 ... 0.15559513 0.15560308 0.15561102]\n",
      "0.0\n"
     ]
    },
    {
     "name": "stderr",
     "output_type": "stream",
     "text": [
      "    INFO - Computed Rho Coefficients: -0.399016, -0.027483, 0.789742\n",
      "    INFO - Elapsed time:     4 seconds.\n",
      "    INFO - \n"
     ]
    },
    {
     "name": "stdout",
     "output_type": "stream",
     "text": [
      "[2.77777778e-03 5.55555556e-03 8.33333333e-03 ... 2.99444444e+00\n",
      " 2.99722222e+00 3.00000000e+00]\n",
      "[-0.42643826 -0.42637817 -0.42631821 ... -0.40159815 -0.40159249\n",
      " -0.40158685]\n",
      "0.0\n"
     ]
    },
    {
     "name": "stderr",
     "output_type": "stream",
     "text": [
      "    INFO - Computed Nu Coefficients: 0.083444, 0.712552, -0.445168, -0.144520\n",
      "    INFO - Elapsed time:     6 seconds.\n",
      "    INFO - \n",
      "    INFO - Vol surface is created.\n",
      "    INFO - Elapsed time:     6 seconds.\n",
      "    INFO - \n",
      "    INFO - Finally writing the results to excel format.\n"
     ]
    },
    {
     "name": "stdout",
     "output_type": "stream",
     "text": [
      "[2.77777778e-03 5.55555556e-03 8.33333333e-03 ... 2.99444444e+00\n",
      " 2.99722222e+00 3.00000000e+00]\n",
      "[9.86991029 7.26870753 6.07967283 ... 0.36712555 0.36689467 0.36666408]\n",
      "0.0\n"
     ]
    },
    {
     "name": "stderr",
     "output_type": "stream",
     "text": [
      "    INFO - \n",
      "    INFO - [34/179] Total Elapsed time: 224.76591 seconds.\n",
      "    INFO - \n",
      "    INFO - [35/179] Start 35'th iteration.\n",
      "    INFO - Considering Kospi200 index. Creating vol surface at date: 2019/02/18.\n",
      "    INFO - Using raw parameters of date: 2019/02/18 and vol surface of date: 2019/02/15.\n",
      "    INFO - \n",
      "    INFO - Now creating vol surface.\n",
      "    INFO - \n",
      "    INFO - Computed Alpha Coefficients: 0.162526, 0.047203, 6.803428, -0.073863, 1.784925\n",
      "    INFO - Elapsed time:     2 seconds.\n",
      "    INFO - \n"
     ]
    },
    {
     "name": "stdout",
     "output_type": "stream",
     "text": [
      "[2.77777778e-03 5.55555556e-03 8.33333333e-03 ... 2.99444444e+00\n",
      " 2.99722222e+00 3.00000000e+00]\n",
      "[0.12805491 0.12802953 0.1280062  ... 0.15482032 0.15482727 0.15483422]\n",
      "0.0\n"
     ]
    },
    {
     "name": "stderr",
     "output_type": "stream",
     "text": [
      "    INFO - Computed Rho Coefficients: -0.334341, -0.162490, 7.466471\n",
      "    INFO - Elapsed time:     4 seconds.\n",
      "    INFO - \n"
     ]
    },
    {
     "name": "stdout",
     "output_type": "stream",
     "text": [
      "[2.77777778e-03 5.55555556e-03 8.33333333e-03 ... 2.99444444e+00\n",
      " 2.99722222e+00 3.00000000e+00]\n",
      "[-0.49349545 -0.49022855 -0.4870287  ... -0.33434069 -0.33434069\n",
      " -0.33434069]\n",
      "0.0\n"
     ]
    },
    {
     "name": "stderr",
     "output_type": "stream",
     "text": [
      "    INFO - Computed Nu Coefficients: 0.079476, 0.711569, -0.440818, -0.157471\n",
      "    INFO - Elapsed time:     6 seconds.\n",
      "    INFO - \n",
      "    INFO - Vol surface is created.\n",
      "    INFO - Elapsed time:     6 seconds.\n",
      "    INFO - \n",
      "    INFO - Finally writing the results to excel format.\n"
     ]
    },
    {
     "name": "stdout",
     "output_type": "stream",
     "text": [
      "[2.77777778e-03 5.55555556e-03 8.33333333e-03 ... 2.99444444e+00\n",
      " 2.99722222e+00 3.00000000e+00]\n",
      "[9.60504789 7.09405529 5.94338808 ... 0.35329368 0.35306209 0.35283079]\n",
      "0.0\n"
     ]
    },
    {
     "name": "stderr",
     "output_type": "stream",
     "text": [
      "    INFO - \n",
      "    INFO - [35/179] Total Elapsed time: 231.39094 seconds.\n",
      "    INFO - \n",
      "    INFO - [36/179] Start 36'th iteration.\n",
      "    INFO - Considering Kospi200 index. Creating vol surface at date: 2019/02/19.\n",
      "    INFO - Using raw parameters of date: 2019/02/19 and vol surface of date: 2019/02/18.\n",
      "    INFO - \n",
      "    INFO - Now creating vol surface.\n",
      "    INFO - \n",
      "    INFO - Computed Alpha Coefficients: 0.691434, -0.026654, 1.765386, -0.007885, 0.014433\n",
      "    INFO - Elapsed time:     2 seconds.\n",
      "    INFO - \n"
     ]
    },
    {
     "name": "stdout",
     "output_type": "stream",
     "text": [
      "[2.77777778e-03 5.55555556e-03 8.33333333e-03 ... 2.99444444e+00\n",
      " 2.99722222e+00 3.00000000e+00]\n",
      "[0.13009663 0.13018108 0.13026517 ... 0.15667115 0.15668217 0.15669318]\n",
      "0.0\n"
     ]
    },
    {
     "name": "stderr",
     "output_type": "stream",
     "text": [
      "    INFO - Computed Rho Coefficients: -0.383100, -0.049485, 3.419408\n",
      "    INFO - Elapsed time:     4 seconds.\n",
      "    INFO - \n"
     ]
    },
    {
     "name": "stdout",
     "output_type": "stream",
     "text": [
      "[2.77777778e-03 5.55555556e-03 8.33333333e-03 ... 2.99444444e+00\n",
      " 2.99722222e+00 3.00000000e+00]\n",
      "[-0.4321174  -0.43165402 -0.43119501 ... -0.38310165 -0.38310163\n",
      " -0.38310162]\n",
      "0.0\n"
     ]
    },
    {
     "name": "stderr",
     "output_type": "stream",
     "text": [
      "    INFO - Computed Nu Coefficients: 0.074626, 0.711151, -0.435964, -0.152942\n",
      "    INFO - Elapsed time:     6 seconds.\n",
      "    INFO - \n",
      "    INFO - Vol surface is created.\n",
      "    INFO - Elapsed time:     6 seconds.\n",
      "    INFO - \n",
      "    INFO - Finally writing the results to excel format.\n"
     ]
    },
    {
     "name": "stdout",
     "output_type": "stream",
     "text": [
      "[2.77777778e-03 5.55555556e-03 8.33333333e-03 ... 2.99444444e+00\n",
      " 2.99722222e+00 3.00000000e+00]\n",
      "[9.3266038  6.91077793 5.80070949 ... 0.35350032 0.35326921 0.35303839]\n",
      "0.0\n"
     ]
    },
    {
     "name": "stderr",
     "output_type": "stream",
     "text": [
      "    INFO - \n",
      "    INFO - [36/179] Total Elapsed time: 238.04340 seconds.\n",
      "    INFO - \n",
      "    INFO - [37/179] Start 37'th iteration.\n",
      "    INFO - Considering Kospi200 index. Creating vol surface at date: 2019/02/20.\n",
      "    INFO - Using raw parameters of date: 2019/02/20 and vol surface of date: 2019/02/19.\n",
      "    INFO - \n",
      "    INFO - Now creating vol surface.\n",
      "    INFO - \n",
      "    INFO - Computed Alpha Coefficients: 0.708058, -0.016494, 1.255575, -0.011214, 0.019823\n",
      "    INFO - Elapsed time:     2 seconds.\n",
      "    INFO - \n"
     ]
    },
    {
     "name": "stdout",
     "output_type": "stream",
     "text": [
      "[2.77777778e-03 5.55555556e-03 8.33333333e-03 ... 2.99444444e+00\n",
      " 2.99722222e+00 3.00000000e+00]\n",
      "[0.12925938 0.12932053 0.12938153 ... 0.15849209 0.15850813 0.15852416]\n",
      "0.0\n"
     ]
    },
    {
     "ename": "KeyboardInterrupt",
     "evalue": "",
     "output_type": "error",
     "traceback": [
      "\u001b[0;31m---------------------------------------------------------------------------\u001b[0m",
      "\u001b[0;31mKeyboardInterrupt\u001b[0m                         Traceback (most recent call last)",
      "\u001b[0;32m<ipython-input-11-87f03cde7362>\u001b[0m in \u001b[0;36m<module>\u001b[0;34m\u001b[0m\n\u001b[1;32m     52\u001b[0m         \u001b[0mnu_loss_model\u001b[0m\u001b[0;34m,\u001b[0m \u001b[0mnu_candidate_model\u001b[0m\u001b[0;34m,\u001b[0m\u001b[0;34m\u001b[0m\u001b[0;34m\u001b[0m\u001b[0m\n\u001b[1;32m     53\u001b[0m         \u001b[0mrho_loss_model\u001b[0m\u001b[0;34m,\u001b[0m \u001b[0mrho_candidate_model\u001b[0m\u001b[0;34m,\u001b[0m \u001b[0msave_base_name\u001b[0m\u001b[0;34m=\u001b[0m\u001b[0;34m''\u001b[0m\u001b[0;34m,\u001b[0m \u001b[0mplot_result\u001b[0m\u001b[0;34m=\u001b[0m\u001b[0;32mFalse\u001b[0m\u001b[0;34m,\u001b[0m\u001b[0;34m\u001b[0m\u001b[0;34m\u001b[0m\u001b[0m\n\u001b[0;32m---> 54\u001b[0;31m         plot_curve=False, plot_smile=False, plot_surface=False)\n\u001b[0m\u001b[1;32m     55\u001b[0m         \u001b[0;31m#rho_loss_model, rho_candidate_model, save_base_name='', plot_result=True,\u001b[0m\u001b[0;34m\u001b[0m\u001b[0;34m\u001b[0m\u001b[0;34m\u001b[0m\u001b[0m\n\u001b[1;32m     56\u001b[0m         \u001b[0;31m#plot_curve=True, plot_smile=False, plot_surface=False)\u001b[0m\u001b[0;34m\u001b[0m\u001b[0;34m\u001b[0m\u001b[0;34m\u001b[0m\u001b[0m\n",
      "\u001b[0;32m/media/pivv/ad585586-bb94-46ec-a3cb-88c563ac0227/Projects/Project_VolSurface/src/core/kap_vol_surface.py\u001b[0m in \u001b[0;36mcreate_vol_surface_at_day\u001b[0;34m(logger, config, day, yesterday, market_data, raw_param_data, coef_data, alpha_loss_model, alpha_candidate_model, nu_loss_model, nu_candidate_model, rho_loss_model, rho_candidate_model, save_base_name, plot_result, plot_curve, plot_smile, plot_surface)\u001b[0m\n\u001b[1;32m    425\u001b[0m             \u001b[0mdaily_rho_data\u001b[0m \u001b[0;34m=\u001b[0m \u001b[0mdaily_param_data\u001b[0m\u001b[0;34m\u001b[0m\u001b[0;34m\u001b[0m\u001b[0m\n\u001b[1;32m    426\u001b[0m             daily_rho_train_data, _, _ = create_param_curve(\n\u001b[0;32m--> 427\u001b[0;31m                 logger, daily_train_data, rho_loss_model, rho_candidate_model, parameter)\n\u001b[0m\u001b[1;32m    428\u001b[0m             \u001b[0m_\u001b[0m\u001b[0;34m,\u001b[0m \u001b[0m_\u001b[0m\u001b[0;34m,\u001b[0m \u001b[0mgold_alpha_coefs\u001b[0m\u001b[0;34m,\u001b[0m \u001b[0myesterday_alpha_coefs\u001b[0m\u001b[0;34m,\u001b[0m \u001b[0mpred_rho_coefs\u001b[0m \u001b[0;34m=\u001b[0m \u001b[0mdaily_rho_train_data\u001b[0m\u001b[0;34m\u001b[0m\u001b[0;34m\u001b[0m\u001b[0m\n\u001b[1;32m    429\u001b[0m             \u001b[0mlogger\u001b[0m\u001b[0;34m.\u001b[0m\u001b[0minfo\u001b[0m\u001b[0;34m(\u001b[0m\u001b[0;34m'Computed Rho Coefficients: '\u001b[0m \u001b[0;34m+\u001b[0m \u001b[0;34m', '\u001b[0m\u001b[0;34m.\u001b[0m\u001b[0mjoin\u001b[0m\u001b[0;34m(\u001b[0m\u001b[0;34m'%.6f'\u001b[0m \u001b[0;34m%\u001b[0m \u001b[0mp\u001b[0m \u001b[0;32mfor\u001b[0m \u001b[0mp\u001b[0m \u001b[0;32min\u001b[0m \u001b[0mpred_rho_coefs\u001b[0m\u001b[0;34m)\u001b[0m\u001b[0;34m)\u001b[0m\u001b[0;34m\u001b[0m\u001b[0;34m\u001b[0m\u001b[0m\n",
      "\u001b[0;32m/media/pivv/ad585586-bb94-46ec-a3cb-88c563ac0227/Projects/Project_VolSurface/src/core/kap_vol_surface.py\u001b[0m in \u001b[0;36mcreate_param_curve\u001b[0;34m(logger, daily_train_data, loss_model, candidate_model, parameter)\u001b[0m\n\u001b[1;32m    214\u001b[0m         \u001b[0mpoint_scores\u001b[0m \u001b[0;34m=\u001b[0m \u001b[0;32mNone\u001b[0m\u001b[0;34m\u001b[0m\u001b[0;34m\u001b[0m\u001b[0m\n\u001b[1;32m    215\u001b[0m     \u001b[0;32melse\u001b[0m\u001b[0;34m:\u001b[0m\u001b[0;34m\u001b[0m\u001b[0;34m\u001b[0m\u001b[0m\n\u001b[0;32m--> 216\u001b[0;31m         \u001b[0mpoint_scores\u001b[0m \u001b[0;34m=\u001b[0m \u001b[0mcandidate_model\u001b[0m\u001b[0;34m.\u001b[0m\u001b[0mpredict\u001b[0m\u001b[0;34m(\u001b[0m\u001b[0minitial_state\u001b[0m\u001b[0;34m)\u001b[0m\u001b[0;34m\u001b[0m\u001b[0;34m\u001b[0m\u001b[0m\n\u001b[0m\u001b[1;32m    217\u001b[0m     \u001b[0mlogger\u001b[0m\u001b[0;34m.\u001b[0m\u001b[0mdebug\u001b[0m\u001b[0;34m(\u001b[0m\u001b[0;34m'Point scores: '\u001b[0m \u001b[0;34m+\u001b[0m \u001b[0;34m', '\u001b[0m\u001b[0;34m.\u001b[0m\u001b[0mjoin\u001b[0m\u001b[0;34m(\u001b[0m\u001b[0;34m'%.3f'\u001b[0m \u001b[0;34m%\u001b[0m \u001b[0mscore\u001b[0m \u001b[0;32mfor\u001b[0m \u001b[0mscore\u001b[0m \u001b[0;32min\u001b[0m \u001b[0mpoint_scores\u001b[0m\u001b[0;34m)\u001b[0m\u001b[0;34m)\u001b[0m\u001b[0;34m\u001b[0m\u001b[0;34m\u001b[0m\u001b[0m\n\u001b[1;32m    218\u001b[0m \u001b[0;34m\u001b[0m\u001b[0m\n",
      "\u001b[0;32m/media/pivv/ad585586-bb94-46ec-a3cb-88c563ac0227/Projects/Project_VolSurface/src/core/kap_models.py\u001b[0m in \u001b[0;36mpredict\u001b[0;34m(self, state)\u001b[0m\n\u001b[1;32m    503\u001b[0m     \u001b[0;32mdef\u001b[0m \u001b[0mpredict\u001b[0m\u001b[0;34m(\u001b[0m\u001b[0mself\u001b[0m\u001b[0;34m,\u001b[0m \u001b[0mstate\u001b[0m\u001b[0;34m)\u001b[0m\u001b[0;34m:\u001b[0m\u001b[0;34m\u001b[0m\u001b[0;34m\u001b[0m\u001b[0m\n\u001b[1;32m    504\u001b[0m         \u001b[0mx\u001b[0m\u001b[0;34m,\u001b[0m \u001b[0mpoint_locs\u001b[0m\u001b[0;34m,\u001b[0m \u001b[0mtenors_one\u001b[0m \u001b[0;34m=\u001b[0m \u001b[0mself\u001b[0m\u001b[0;34m.\u001b[0m\u001b[0mgenerate_input\u001b[0m\u001b[0;34m(\u001b[0m\u001b[0mstate\u001b[0m\u001b[0;34m)\u001b[0m\u001b[0;34m\u001b[0m\u001b[0;34m\u001b[0m\u001b[0m\n\u001b[0;32m--> 505\u001b[0;31m         \u001b[0my_pred\u001b[0m \u001b[0;34m=\u001b[0m \u001b[0mself\u001b[0m\u001b[0;34m.\u001b[0m\u001b[0mforward\u001b[0m\u001b[0;34m(\u001b[0m\u001b[0;34m(\u001b[0m\u001b[0mx\u001b[0m\u001b[0;34m,\u001b[0m \u001b[0mpoint_locs\u001b[0m\u001b[0;34m)\u001b[0m\u001b[0;34m)\u001b[0m\u001b[0;34m\u001b[0m\u001b[0;34m\u001b[0m\u001b[0m\n\u001b[0m\u001b[1;32m    506\u001b[0m         \u001b[0;32mreturn\u001b[0m \u001b[0my_pred\u001b[0m\u001b[0;34m[\u001b[0m\u001b[0;36m0\u001b[0m\u001b[0;34m,\u001b[0m \u001b[0mtenors_one\u001b[0m\u001b[0;34m-\u001b[0m\u001b[0;36m1\u001b[0m\u001b[0;34m]\u001b[0m\u001b[0;34m\u001b[0m\u001b[0;34m\u001b[0m\u001b[0m\n\u001b[1;32m    507\u001b[0m \u001b[0;34m\u001b[0m\u001b[0m\n",
      "\u001b[0;32m/media/pivv/ad585586-bb94-46ec-a3cb-88c563ac0227/Projects/Project_VolSurface/src/core/kap_models.py\u001b[0m in \u001b[0;36mforward\u001b[0;34m(self, xs)\u001b[0m\n\u001b[1;32m    515\u001b[0m         \u001b[0;31m# param today selected current_curve yesterday_curve\u001b[0m\u001b[0;34m\u001b[0m\u001b[0;34m\u001b[0m\u001b[0;34m\u001b[0m\u001b[0m\n\u001b[1;32m    516\u001b[0m         \u001b[0mx\u001b[0m \u001b[0;34m=\u001b[0m \u001b[0mx\u001b[0m\u001b[0;34m.\u001b[0m\u001b[0mreshape\u001b[0m\u001b[0;34m(\u001b[0m\u001b[0mx\u001b[0m\u001b[0;34m.\u001b[0m\u001b[0mshape\u001b[0m\u001b[0;34m[\u001b[0m\u001b[0;36m0\u001b[0m\u001b[0;34m]\u001b[0m\u001b[0;34m,\u001b[0m \u001b[0;34m-\u001b[0m\u001b[0;36m1\u001b[0m\u001b[0;34m)\u001b[0m  \u001b[0;31m# bs x (d_src*seq_len)\u001b[0m\u001b[0;34m\u001b[0m\u001b[0;34m\u001b[0m\u001b[0m\n\u001b[0;32m--> 517\u001b[0;31m         \u001b[0mx\u001b[0m \u001b[0;34m=\u001b[0m \u001b[0mself\u001b[0m\u001b[0;34m.\u001b[0m\u001b[0msvr\u001b[0m\u001b[0;34m.\u001b[0m\u001b[0mpredict\u001b[0m\u001b[0;34m(\u001b[0m\u001b[0mx\u001b[0m\u001b[0;34m)\u001b[0m  \u001b[0;31m# bs x seq_len\u001b[0m\u001b[0;34m\u001b[0m\u001b[0;34m\u001b[0m\u001b[0m\n\u001b[0m\u001b[1;32m    518\u001b[0m         \u001b[0mx\u001b[0m\u001b[0;34m[\u001b[0m\u001b[0;34m~\u001b[0m\u001b[0mpoint_locs\u001b[0m\u001b[0;34m]\u001b[0m \u001b[0;34m=\u001b[0m \u001b[0;36m0\u001b[0m\u001b[0;34m\u001b[0m\u001b[0;34m\u001b[0m\u001b[0m\n\u001b[1;32m    519\u001b[0m         \u001b[0;31m#print(x.shape)\u001b[0m\u001b[0;34m\u001b[0m\u001b[0;34m\u001b[0m\u001b[0;34m\u001b[0m\u001b[0m\n",
      "\u001b[0;32m~/anaconda3/envs/pytorch3/lib/python3.7/site-packages/sklearn/multioutput.py\u001b[0m in \u001b[0;36mpredict\u001b[0;34m(self, X)\u001b[0m\n\u001b[1;32m    193\u001b[0m         y = Parallel(n_jobs=self.n_jobs)(\n\u001b[1;32m    194\u001b[0m             \u001b[0mdelayed\u001b[0m\u001b[0;34m(\u001b[0m\u001b[0mparallel_helper\u001b[0m\u001b[0;34m)\u001b[0m\u001b[0;34m(\u001b[0m\u001b[0me\u001b[0m\u001b[0;34m,\u001b[0m \u001b[0;34m'predict'\u001b[0m\u001b[0;34m,\u001b[0m \u001b[0mX\u001b[0m\u001b[0;34m)\u001b[0m\u001b[0;34m\u001b[0m\u001b[0;34m\u001b[0m\u001b[0m\n\u001b[0;32m--> 195\u001b[0;31m             for e in self.estimators_)\n\u001b[0m\u001b[1;32m    196\u001b[0m \u001b[0;34m\u001b[0m\u001b[0m\n\u001b[1;32m    197\u001b[0m         \u001b[0;32mreturn\u001b[0m \u001b[0mnp\u001b[0m\u001b[0;34m.\u001b[0m\u001b[0masarray\u001b[0m\u001b[0;34m(\u001b[0m\u001b[0my\u001b[0m\u001b[0;34m)\u001b[0m\u001b[0;34m.\u001b[0m\u001b[0mT\u001b[0m\u001b[0;34m\u001b[0m\u001b[0;34m\u001b[0m\u001b[0m\n",
      "\u001b[0;32m~/anaconda3/envs/pytorch3/lib/python3.7/site-packages/sklearn/externals/joblib/parallel.py\u001b[0m in \u001b[0;36m__call__\u001b[0;34m(self, iterable)\u001b[0m\n\u001b[1;32m    918\u001b[0m                 \u001b[0mself\u001b[0m\u001b[0;34m.\u001b[0m\u001b[0m_iterating\u001b[0m \u001b[0;34m=\u001b[0m \u001b[0mself\u001b[0m\u001b[0;34m.\u001b[0m\u001b[0m_original_iterator\u001b[0m \u001b[0;32mis\u001b[0m \u001b[0;32mnot\u001b[0m \u001b[0;32mNone\u001b[0m\u001b[0;34m\u001b[0m\u001b[0;34m\u001b[0m\u001b[0m\n\u001b[1;32m    919\u001b[0m \u001b[0;34m\u001b[0m\u001b[0m\n\u001b[0;32m--> 920\u001b[0;31m             \u001b[0;32mwhile\u001b[0m \u001b[0mself\u001b[0m\u001b[0;34m.\u001b[0m\u001b[0mdispatch_one_batch\u001b[0m\u001b[0;34m(\u001b[0m\u001b[0miterator\u001b[0m\u001b[0;34m)\u001b[0m\u001b[0;34m:\u001b[0m\u001b[0;34m\u001b[0m\u001b[0;34m\u001b[0m\u001b[0m\n\u001b[0m\u001b[1;32m    921\u001b[0m                 \u001b[0;32mpass\u001b[0m\u001b[0;34m\u001b[0m\u001b[0;34m\u001b[0m\u001b[0m\n\u001b[1;32m    922\u001b[0m \u001b[0;34m\u001b[0m\u001b[0m\n",
      "\u001b[0;32m~/anaconda3/envs/pytorch3/lib/python3.7/site-packages/sklearn/externals/joblib/parallel.py\u001b[0m in \u001b[0;36mdispatch_one_batch\u001b[0;34m(self, iterator)\u001b[0m\n\u001b[1;32m    757\u001b[0m                 \u001b[0;32mreturn\u001b[0m \u001b[0;32mFalse\u001b[0m\u001b[0;34m\u001b[0m\u001b[0;34m\u001b[0m\u001b[0m\n\u001b[1;32m    758\u001b[0m             \u001b[0;32melse\u001b[0m\u001b[0;34m:\u001b[0m\u001b[0;34m\u001b[0m\u001b[0;34m\u001b[0m\u001b[0m\n\u001b[0;32m--> 759\u001b[0;31m                 \u001b[0mself\u001b[0m\u001b[0;34m.\u001b[0m\u001b[0m_dispatch\u001b[0m\u001b[0;34m(\u001b[0m\u001b[0mtasks\u001b[0m\u001b[0;34m)\u001b[0m\u001b[0;34m\u001b[0m\u001b[0;34m\u001b[0m\u001b[0m\n\u001b[0m\u001b[1;32m    760\u001b[0m                 \u001b[0;32mreturn\u001b[0m \u001b[0;32mTrue\u001b[0m\u001b[0;34m\u001b[0m\u001b[0;34m\u001b[0m\u001b[0m\n\u001b[1;32m    761\u001b[0m \u001b[0;34m\u001b[0m\u001b[0m\n",
      "\u001b[0;32m~/anaconda3/envs/pytorch3/lib/python3.7/site-packages/sklearn/externals/joblib/parallel.py\u001b[0m in \u001b[0;36m_dispatch\u001b[0;34m(self, batch)\u001b[0m\n\u001b[1;32m    714\u001b[0m         \u001b[0;32mwith\u001b[0m \u001b[0mself\u001b[0m\u001b[0;34m.\u001b[0m\u001b[0m_lock\u001b[0m\u001b[0;34m:\u001b[0m\u001b[0;34m\u001b[0m\u001b[0;34m\u001b[0m\u001b[0m\n\u001b[1;32m    715\u001b[0m             \u001b[0mjob_idx\u001b[0m \u001b[0;34m=\u001b[0m \u001b[0mlen\u001b[0m\u001b[0;34m(\u001b[0m\u001b[0mself\u001b[0m\u001b[0;34m.\u001b[0m\u001b[0m_jobs\u001b[0m\u001b[0;34m)\u001b[0m\u001b[0;34m\u001b[0m\u001b[0;34m\u001b[0m\u001b[0m\n\u001b[0;32m--> 716\u001b[0;31m             \u001b[0mjob\u001b[0m \u001b[0;34m=\u001b[0m \u001b[0mself\u001b[0m\u001b[0;34m.\u001b[0m\u001b[0m_backend\u001b[0m\u001b[0;34m.\u001b[0m\u001b[0mapply_async\u001b[0m\u001b[0;34m(\u001b[0m\u001b[0mbatch\u001b[0m\u001b[0;34m,\u001b[0m \u001b[0mcallback\u001b[0m\u001b[0;34m=\u001b[0m\u001b[0mcb\u001b[0m\u001b[0;34m)\u001b[0m\u001b[0;34m\u001b[0m\u001b[0;34m\u001b[0m\u001b[0m\n\u001b[0m\u001b[1;32m    717\u001b[0m             \u001b[0;31m# A job can complete so quickly than its callback is\u001b[0m\u001b[0;34m\u001b[0m\u001b[0;34m\u001b[0m\u001b[0;34m\u001b[0m\u001b[0m\n\u001b[1;32m    718\u001b[0m             \u001b[0;31m# called before we get here, causing self._jobs to\u001b[0m\u001b[0;34m\u001b[0m\u001b[0;34m\u001b[0m\u001b[0;34m\u001b[0m\u001b[0m\n",
      "\u001b[0;32m~/anaconda3/envs/pytorch3/lib/python3.7/site-packages/sklearn/externals/joblib/_parallel_backends.py\u001b[0m in \u001b[0;36mapply_async\u001b[0;34m(self, func, callback)\u001b[0m\n\u001b[1;32m    180\u001b[0m     \u001b[0;32mdef\u001b[0m \u001b[0mapply_async\u001b[0m\u001b[0;34m(\u001b[0m\u001b[0mself\u001b[0m\u001b[0;34m,\u001b[0m \u001b[0mfunc\u001b[0m\u001b[0;34m,\u001b[0m \u001b[0mcallback\u001b[0m\u001b[0;34m=\u001b[0m\u001b[0;32mNone\u001b[0m\u001b[0;34m)\u001b[0m\u001b[0;34m:\u001b[0m\u001b[0;34m\u001b[0m\u001b[0;34m\u001b[0m\u001b[0m\n\u001b[1;32m    181\u001b[0m         \u001b[0;34m\"\"\"Schedule a func to be run\"\"\"\u001b[0m\u001b[0;34m\u001b[0m\u001b[0;34m\u001b[0m\u001b[0m\n\u001b[0;32m--> 182\u001b[0;31m         \u001b[0mresult\u001b[0m \u001b[0;34m=\u001b[0m \u001b[0mImmediateResult\u001b[0m\u001b[0;34m(\u001b[0m\u001b[0mfunc\u001b[0m\u001b[0;34m)\u001b[0m\u001b[0;34m\u001b[0m\u001b[0;34m\u001b[0m\u001b[0m\n\u001b[0m\u001b[1;32m    183\u001b[0m         \u001b[0;32mif\u001b[0m \u001b[0mcallback\u001b[0m\u001b[0;34m:\u001b[0m\u001b[0;34m\u001b[0m\u001b[0;34m\u001b[0m\u001b[0m\n\u001b[1;32m    184\u001b[0m             \u001b[0mcallback\u001b[0m\u001b[0;34m(\u001b[0m\u001b[0mresult\u001b[0m\u001b[0;34m)\u001b[0m\u001b[0;34m\u001b[0m\u001b[0;34m\u001b[0m\u001b[0m\n",
      "\u001b[0;32m~/anaconda3/envs/pytorch3/lib/python3.7/site-packages/sklearn/externals/joblib/_parallel_backends.py\u001b[0m in \u001b[0;36m__init__\u001b[0;34m(self, batch)\u001b[0m\n\u001b[1;32m    547\u001b[0m         \u001b[0;31m# Don't delay the application, to avoid keeping the input\u001b[0m\u001b[0;34m\u001b[0m\u001b[0;34m\u001b[0m\u001b[0;34m\u001b[0m\u001b[0m\n\u001b[1;32m    548\u001b[0m         \u001b[0;31m# arguments in memory\u001b[0m\u001b[0;34m\u001b[0m\u001b[0;34m\u001b[0m\u001b[0;34m\u001b[0m\u001b[0m\n\u001b[0;32m--> 549\u001b[0;31m         \u001b[0mself\u001b[0m\u001b[0;34m.\u001b[0m\u001b[0mresults\u001b[0m \u001b[0;34m=\u001b[0m \u001b[0mbatch\u001b[0m\u001b[0;34m(\u001b[0m\u001b[0;34m)\u001b[0m\u001b[0;34m\u001b[0m\u001b[0;34m\u001b[0m\u001b[0m\n\u001b[0m\u001b[1;32m    550\u001b[0m \u001b[0;34m\u001b[0m\u001b[0m\n\u001b[1;32m    551\u001b[0m     \u001b[0;32mdef\u001b[0m \u001b[0mget\u001b[0m\u001b[0;34m(\u001b[0m\u001b[0mself\u001b[0m\u001b[0;34m)\u001b[0m\u001b[0;34m:\u001b[0m\u001b[0;34m\u001b[0m\u001b[0;34m\u001b[0m\u001b[0m\n",
      "\u001b[0;32m~/anaconda3/envs/pytorch3/lib/python3.7/site-packages/sklearn/externals/joblib/parallel.py\u001b[0m in \u001b[0;36m__call__\u001b[0;34m(self)\u001b[0m\n\u001b[1;32m    223\u001b[0m         \u001b[0;32mwith\u001b[0m \u001b[0mparallel_backend\u001b[0m\u001b[0;34m(\u001b[0m\u001b[0mself\u001b[0m\u001b[0;34m.\u001b[0m\u001b[0m_backend\u001b[0m\u001b[0;34m,\u001b[0m \u001b[0mn_jobs\u001b[0m\u001b[0;34m=\u001b[0m\u001b[0mself\u001b[0m\u001b[0;34m.\u001b[0m\u001b[0m_n_jobs\u001b[0m\u001b[0;34m)\u001b[0m\u001b[0;34m:\u001b[0m\u001b[0;34m\u001b[0m\u001b[0;34m\u001b[0m\u001b[0m\n\u001b[1;32m    224\u001b[0m             return [func(*args, **kwargs)\n\u001b[0;32m--> 225\u001b[0;31m                     for func, args, kwargs in self.items]\n\u001b[0m\u001b[1;32m    226\u001b[0m \u001b[0;34m\u001b[0m\u001b[0m\n\u001b[1;32m    227\u001b[0m     \u001b[0;32mdef\u001b[0m \u001b[0m__len__\u001b[0m\u001b[0;34m(\u001b[0m\u001b[0mself\u001b[0m\u001b[0;34m)\u001b[0m\u001b[0;34m:\u001b[0m\u001b[0;34m\u001b[0m\u001b[0;34m\u001b[0m\u001b[0m\n",
      "\u001b[0;32m~/anaconda3/envs/pytorch3/lib/python3.7/site-packages/sklearn/externals/joblib/parallel.py\u001b[0m in \u001b[0;36m<listcomp>\u001b[0;34m(.0)\u001b[0m\n\u001b[1;32m    223\u001b[0m         \u001b[0;32mwith\u001b[0m \u001b[0mparallel_backend\u001b[0m\u001b[0;34m(\u001b[0m\u001b[0mself\u001b[0m\u001b[0;34m.\u001b[0m\u001b[0m_backend\u001b[0m\u001b[0;34m,\u001b[0m \u001b[0mn_jobs\u001b[0m\u001b[0;34m=\u001b[0m\u001b[0mself\u001b[0m\u001b[0;34m.\u001b[0m\u001b[0m_n_jobs\u001b[0m\u001b[0;34m)\u001b[0m\u001b[0;34m:\u001b[0m\u001b[0;34m\u001b[0m\u001b[0;34m\u001b[0m\u001b[0m\n\u001b[1;32m    224\u001b[0m             return [func(*args, **kwargs)\n\u001b[0;32m--> 225\u001b[0;31m                     for func, args, kwargs in self.items]\n\u001b[0m\u001b[1;32m    226\u001b[0m \u001b[0;34m\u001b[0m\u001b[0m\n\u001b[1;32m    227\u001b[0m     \u001b[0;32mdef\u001b[0m \u001b[0m__len__\u001b[0m\u001b[0;34m(\u001b[0m\u001b[0mself\u001b[0m\u001b[0;34m)\u001b[0m\u001b[0;34m:\u001b[0m\u001b[0;34m\u001b[0m\u001b[0;34m\u001b[0m\u001b[0m\n",
      "\u001b[0;32m~/anaconda3/envs/pytorch3/lib/python3.7/site-packages/sklearn/utils/fixes.py\u001b[0m in \u001b[0;36mparallel_helper\u001b[0;34m(obj, methodname, *args, **kwargs)\u001b[0m\n\u001b[1;32m    212\u001b[0m \u001b[0;34m\u001b[0m\u001b[0m\n\u001b[1;32m    213\u001b[0m     \"\"\"\n\u001b[0;32m--> 214\u001b[0;31m     \u001b[0;32mreturn\u001b[0m \u001b[0mgetattr\u001b[0m\u001b[0;34m(\u001b[0m\u001b[0mobj\u001b[0m\u001b[0;34m,\u001b[0m \u001b[0mmethodname\u001b[0m\u001b[0;34m)\u001b[0m\u001b[0;34m(\u001b[0m\u001b[0;34m*\u001b[0m\u001b[0margs\u001b[0m\u001b[0;34m,\u001b[0m \u001b[0;34m**\u001b[0m\u001b[0mkwargs\u001b[0m\u001b[0;34m)\u001b[0m\u001b[0;34m\u001b[0m\u001b[0;34m\u001b[0m\u001b[0m\n\u001b[0m\u001b[1;32m    215\u001b[0m \u001b[0;34m\u001b[0m\u001b[0m\n\u001b[1;32m    216\u001b[0m \u001b[0;34m\u001b[0m\u001b[0m\n",
      "\u001b[0;32m~/anaconda3/envs/pytorch3/lib/python3.7/site-packages/sklearn/svm/base.py\u001b[0m in \u001b[0;36mpredict\u001b[0;34m(self, X)\u001b[0m\n\u001b[1;32m    325\u001b[0m         \u001b[0mX\u001b[0m \u001b[0;34m=\u001b[0m \u001b[0mself\u001b[0m\u001b[0;34m.\u001b[0m\u001b[0m_validate_for_predict\u001b[0m\u001b[0;34m(\u001b[0m\u001b[0mX\u001b[0m\u001b[0;34m)\u001b[0m\u001b[0;34m\u001b[0m\u001b[0;34m\u001b[0m\u001b[0m\n\u001b[1;32m    326\u001b[0m         \u001b[0mpredict\u001b[0m \u001b[0;34m=\u001b[0m \u001b[0mself\u001b[0m\u001b[0;34m.\u001b[0m\u001b[0m_sparse_predict\u001b[0m \u001b[0;32mif\u001b[0m \u001b[0mself\u001b[0m\u001b[0;34m.\u001b[0m\u001b[0m_sparse\u001b[0m \u001b[0;32melse\u001b[0m \u001b[0mself\u001b[0m\u001b[0;34m.\u001b[0m\u001b[0m_dense_predict\u001b[0m\u001b[0;34m\u001b[0m\u001b[0;34m\u001b[0m\u001b[0m\n\u001b[0;32m--> 327\u001b[0;31m         \u001b[0;32mreturn\u001b[0m \u001b[0mpredict\u001b[0m\u001b[0;34m(\u001b[0m\u001b[0mX\u001b[0m\u001b[0;34m)\u001b[0m\u001b[0;34m\u001b[0m\u001b[0;34m\u001b[0m\u001b[0m\n\u001b[0m\u001b[1;32m    328\u001b[0m \u001b[0;34m\u001b[0m\u001b[0m\n\u001b[1;32m    329\u001b[0m     \u001b[0;32mdef\u001b[0m \u001b[0m_dense_predict\u001b[0m\u001b[0;34m(\u001b[0m\u001b[0mself\u001b[0m\u001b[0;34m,\u001b[0m \u001b[0mX\u001b[0m\u001b[0;34m)\u001b[0m\u001b[0;34m:\u001b[0m\u001b[0;34m\u001b[0m\u001b[0;34m\u001b[0m\u001b[0m\n",
      "\u001b[0;32m~/anaconda3/envs/pytorch3/lib/python3.7/site-packages/sklearn/svm/base.py\u001b[0m in \u001b[0;36m_dense_predict\u001b[0;34m(self, X)\u001b[0m\n\u001b[1;32m    348\u001b[0m             \u001b[0mself\u001b[0m\u001b[0;34m.\u001b[0m\u001b[0mprobA_\u001b[0m\u001b[0;34m,\u001b[0m \u001b[0mself\u001b[0m\u001b[0;34m.\u001b[0m\u001b[0mprobB_\u001b[0m\u001b[0;34m,\u001b[0m \u001b[0msvm_type\u001b[0m\u001b[0;34m=\u001b[0m\u001b[0msvm_type\u001b[0m\u001b[0;34m,\u001b[0m \u001b[0mkernel\u001b[0m\u001b[0;34m=\u001b[0m\u001b[0mkernel\u001b[0m\u001b[0;34m,\u001b[0m\u001b[0;34m\u001b[0m\u001b[0;34m\u001b[0m\u001b[0m\n\u001b[1;32m    349\u001b[0m             \u001b[0mdegree\u001b[0m\u001b[0;34m=\u001b[0m\u001b[0mself\u001b[0m\u001b[0;34m.\u001b[0m\u001b[0mdegree\u001b[0m\u001b[0;34m,\u001b[0m \u001b[0mcoef0\u001b[0m\u001b[0;34m=\u001b[0m\u001b[0mself\u001b[0m\u001b[0;34m.\u001b[0m\u001b[0mcoef0\u001b[0m\u001b[0;34m,\u001b[0m \u001b[0mgamma\u001b[0m\u001b[0;34m=\u001b[0m\u001b[0mself\u001b[0m\u001b[0;34m.\u001b[0m\u001b[0m_gamma\u001b[0m\u001b[0;34m,\u001b[0m\u001b[0;34m\u001b[0m\u001b[0;34m\u001b[0m\u001b[0m\n\u001b[0;32m--> 350\u001b[0;31m             cache_size=self.cache_size)\n\u001b[0m\u001b[1;32m    351\u001b[0m \u001b[0;34m\u001b[0m\u001b[0m\n\u001b[1;32m    352\u001b[0m     \u001b[0;32mdef\u001b[0m \u001b[0m_sparse_predict\u001b[0m\u001b[0;34m(\u001b[0m\u001b[0mself\u001b[0m\u001b[0;34m,\u001b[0m \u001b[0mX\u001b[0m\u001b[0;34m)\u001b[0m\u001b[0;34m:\u001b[0m\u001b[0;34m\u001b[0m\u001b[0;34m\u001b[0m\u001b[0m\n",
      "\u001b[0;31mKeyboardInterrupt\u001b[0m: "
     ]
    }
   ],
   "source": [
    "pred_coef_data = None\n",
    "pred_alpha_selection_data = None\n",
    "pred_rho_selection_data = None\n",
    "pred_nu_selection_data = None\n",
    "\n",
    "start_time = time.time()\n",
    "\n",
    "for idate, vol_date in enumerate(vol_dates):\n",
    "    #if idate < 9-1:\n",
    "    #    continue\n",
    "    # 1. Select date to create vol surface.\n",
    "    vol_day = pd.Timestamp(datetime.datetime.strptime(str(vol_date), '%Y%m%d'))\n",
    "\n",
    "    logger.info('')\n",
    "    logger.info(\"[%d/%d] Start %d'th iteration.\" % (idate+1, len(vol_dates), idate+1))\n",
    "    logger.info('Considering %s index. Creating vol surface at date: %s.' % (\n",
    "        config.DATA_TYPE, vol_day.strftime('%Y/%m/%d')))\n",
    "\n",
    "    try:\n",
    "        assert(vol_day in all_days_init)\n",
    "    except Exception as e:\n",
    "        logger.fatal('No param data exists for date %s.' % vol_day.strftime('%Y/%m/%d'))\n",
    "        raise e\n",
    "    day_index = all_days_init.index(vol_day)\n",
    "    try:\n",
    "        assert(day_index > 0)\n",
    "    except Exception as e:\n",
    "        logger.fatal('No param data exists for yesterday of date %s.' %\n",
    "                     vol_day.strftime('%Y/%m/%d'))\n",
    "        raise e\n",
    "    vol_yesterday = all_days_init[day_index-1]\n",
    "    try:\n",
    "        assert(vol_yesterday in coef_days)\n",
    "    except Exception as e:\n",
    "        logger.fatal('No coef data exists for yesterday of date %s: %s.' %\n",
    "                     (vol_day.strftime('%Y/%m/%d'), vol_yesterday.strftime('%Y/%m/%d')))\n",
    "        raise e\n",
    "    logger.info('Using raw parameters of date: %s and vol surface of date: %s.' %\n",
    "                (vol_day.strftime('%Y/%m/%d'), vol_yesterday.strftime('%Y/%m/%d')))\n",
    "\n",
    "    # 5. Create vol surface.\n",
    "    try:\n",
    "        assert(os.path.isdir(config.RESULT_BASE_DIR))\n",
    "    except Exception as e:\n",
    "        logger.fatal('Invalid result directory: \"%s.\"' % config.RESULT_BASE_DIR)\n",
    "        raise e\n",
    "\n",
    "    pred_alpha_coefs, pred_rho_coefs, pred_nu_coefs, \\\n",
    "        daily_alpha_train_data, daily_rho_train_data, daily_nu_train_data = create_vol_surface_at_day(\n",
    "        logger, config, vol_day, vol_yesterday, market_data, raw_param_data, coef_data,\n",
    "        alpha_loss_model, alpha_candidate_model,\n",
    "        nu_loss_model, nu_candidate_model,\n",
    "        rho_loss_model, rho_candidate_model, save_base_name='', plot_result=False,\n",
    "        plot_curve=False, plot_smile=False, plot_surface=False)\n",
    "        #rho_loss_model, rho_candidate_model, save_base_name='', plot_result=True,\n",
    "        #plot_curve=True, plot_smile=False, plot_surface=False)\n",
    "\n",
    "    # 6. Save the results.\n",
    "    logger.info('Finally writing the results to excel format.')\n",
    "    pred_coef_data = daily_coefs_to_coef_data(vol_day, pred_alpha_coefs, pred_rho_coefs, pred_nu_coefs, pred_coef_data)\n",
    "\n",
    "    pred_alpha_selection_data = daily_train_data_to_selection_data(daily_alpha_train_data, pred_alpha_selection_data)\n",
    "    pred_rho_selection_data = daily_train_data_to_selection_data(daily_rho_train_data, pred_rho_selection_data)\n",
    "    pred_nu_selection_data = daily_train_data_to_selection_data(daily_nu_train_data, pred_nu_selection_data)\n",
    "\n",
    "    save_coef_data_from_config(config, pred_coef_data)\n",
    "    save_selection_data_from_config(\n",
    "        config, pred_alpha_selection_data, pred_rho_selection_data, pred_nu_selection_data)\n",
    "    logger.info('')\n",
    "\n",
    "    logger.info('[%d/%d] Total Elapsed time: %.5f seconds.' % (idate+1, len(vol_dates), time.time() - start_time))"
   ]
  },
  {
   "cell_type": "code",
   "execution_count": 8,
   "metadata": {},
   "outputs": [],
   "source": [
    "save_coef_data_from_config(config, pred_coef_data)\n",
    "save_selection_data_from_config(\n",
    "    config, pred_alpha_selection_data, pred_rho_selection_data, pred_nu_selection_data)"
   ]
  },
  {
   "cell_type": "code",
   "execution_count": 24,
   "metadata": {},
   "outputs": [
    {
     "name": "stdout",
     "output_type": "stream",
     "text": [
      "[-0.33333333 -0.33333333 -0.33333333 -0.33333333 -0.33333333 -0.33333333\n",
      " -0.33333333 -0.33333333 -0.33333333  3.        ]\n"
     ]
    }
   ],
   "source": [
    "import scipy.stats as stats\n",
    "print(stats.zscore([1, 2, 3, 4, 5, 7, 8, 9, 10, 1e100]))"
   ]
  },
  {
   "cell_type": "code",
   "execution_count": null,
   "metadata": {},
   "outputs": [],
   "source": []
  },
  {
   "cell_type": "code",
   "execution_count": 15,
   "metadata": {},
   "outputs": [
    {
     "data": {
      "text/html": [
       "<div>\n",
       "<style scoped>\n",
       "    .dataframe tbody tr th:only-of-type {\n",
       "        vertical-align: middle;\n",
       "    }\n",
       "\n",
       "    .dataframe tbody tr th {\n",
       "        vertical-align: top;\n",
       "    }\n",
       "\n",
       "    .dataframe thead th {\n",
       "        text-align: right;\n",
       "    }\n",
       "</style>\n",
       "<table border=\"1\" class=\"dataframe\">\n",
       "  <thead>\n",
       "    <tr style=\"text-align: right;\">\n",
       "      <th></th>\n",
       "      <th>STATUS</th>\n",
       "      <th>TTM</th>\n",
       "      <th>VALUE</th>\n",
       "      <th>SELECTED</th>\n",
       "    </tr>\n",
       "    <tr>\n",
       "      <th>REALDAY</th>\n",
       "      <th></th>\n",
       "      <th></th>\n",
       "      <th></th>\n",
       "      <th></th>\n",
       "    </tr>\n",
       "  </thead>\n",
       "  <tbody>\n",
       "    <tr>\n",
       "      <th>2019-01-01</th>\n",
       "      <td>YESTERDAY</td>\n",
       "      <td>30</td>\n",
       "      <td>0.177668</td>\n",
       "      <td>X</td>\n",
       "    </tr>\n",
       "    <tr>\n",
       "      <th>2019-01-01</th>\n",
       "      <td>YESTERDAY</td>\n",
       "      <td>61</td>\n",
       "      <td>0.172778</td>\n",
       "      <td>O</td>\n",
       "    </tr>\n",
       "    <tr>\n",
       "      <th>2019-01-01</th>\n",
       "      <td>YESTERDAY</td>\n",
       "      <td>91</td>\n",
       "      <td>0.169451</td>\n",
       "      <td>X</td>\n",
       "    </tr>\n",
       "    <tr>\n",
       "      <th>2019-01-01</th>\n",
       "      <td>YESTERDAY</td>\n",
       "      <td>182</td>\n",
       "      <td>0.164450</td>\n",
       "      <td>O</td>\n",
       "    </tr>\n",
       "    <tr>\n",
       "      <th>2019-01-01</th>\n",
       "      <td>YESTERDAY</td>\n",
       "      <td>274</td>\n",
       "      <td>0.162550</td>\n",
       "      <td>X</td>\n",
       "    </tr>\n",
       "    <tr>\n",
       "      <th>...</th>\n",
       "      <td>...</td>\n",
       "      <td>...</td>\n",
       "      <td>...</td>\n",
       "      <td>...</td>\n",
       "    </tr>\n",
       "    <tr>\n",
       "      <th>2019-01-10</th>\n",
       "      <td>RAW</td>\n",
       "      <td>119</td>\n",
       "      <td>0.148179</td>\n",
       "      <td>O</td>\n",
       "    </tr>\n",
       "    <tr>\n",
       "      <th>2019-01-10</th>\n",
       "      <td>RAW</td>\n",
       "      <td>154</td>\n",
       "      <td>0.147492</td>\n",
       "      <td>O</td>\n",
       "    </tr>\n",
       "    <tr>\n",
       "      <th>2019-01-10</th>\n",
       "      <td>RAW</td>\n",
       "      <td>244</td>\n",
       "      <td>0.147025</td>\n",
       "      <td>X</td>\n",
       "    </tr>\n",
       "    <tr>\n",
       "      <th>2019-01-10</th>\n",
       "      <td>RAW</td>\n",
       "      <td>336</td>\n",
       "      <td>0.150284</td>\n",
       "      <td>X</td>\n",
       "    </tr>\n",
       "    <tr>\n",
       "      <th>2019-01-10</th>\n",
       "      <td>RAW</td>\n",
       "      <td>700</td>\n",
       "      <td>0.152666</td>\n",
       "      <td>O</td>\n",
       "    </tr>\n",
       "  </tbody>\n",
       "</table>\n",
       "<p>138 rows × 4 columns</p>\n",
       "</div>"
      ],
      "text/plain": [
       "               STATUS  TTM     VALUE SELECTED\n",
       "REALDAY                                      \n",
       "2019-01-01  YESTERDAY   30  0.177668        X\n",
       "2019-01-01  YESTERDAY   61  0.172778        O\n",
       "2019-01-01  YESTERDAY   91  0.169451        X\n",
       "2019-01-01  YESTERDAY  182  0.164450        O\n",
       "2019-01-01  YESTERDAY  274  0.162550        X\n",
       "...               ...  ...       ...      ...\n",
       "2019-01-10        RAW  119  0.148179        O\n",
       "2019-01-10        RAW  154  0.147492        O\n",
       "2019-01-10        RAW  244  0.147025        X\n",
       "2019-01-10        RAW  336  0.150284        X\n",
       "2019-01-10        RAW  700  0.152666        O\n",
       "\n",
       "[138 rows x 4 columns]"
      ]
     },
     "metadata": {},
     "output_type": "display_data"
    }
   ],
   "source": [
    "display(pred_alpha_selection_data.reset_index().reindex(columns=['REALDAY', 'STATUS', 'TTM', 'VALUE', 'SELECTED']).set_index('REALDAY'))"
   ]
  },
  {
   "cell_type": "code",
   "execution_count": null,
   "metadata": {},
   "outputs": [],
   "source": []
  }
 ],
 "metadata": {
  "kernelspec": {
   "display_name": "pytorch3",
   "language": "python",
   "name": "pytorch3"
  },
  "language_info": {
   "codemirror_mode": {
    "name": "ipython",
    "version": 3
   },
   "file_extension": ".py",
   "mimetype": "text/x-python",
   "name": "python",
   "nbconvert_exporter": "python",
   "pygments_lexer": "ipython3",
   "version": "3.7.9"
  }
 },
 "nbformat": 4,
 "nbformat_minor": 4
}
